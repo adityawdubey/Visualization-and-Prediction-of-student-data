{
 "cells": [
  {
   "cell_type": "markdown",
   "id": "81d2577f-1dc8-40fa-89b1-e91fc0319616",
   "metadata": {},
   "source": [
    "## Project"
   ]
  },
  {
   "cell_type": "code",
   "execution_count": 1,
   "id": "669de40c-3e83-48cd-8737-84e4c80bf240",
   "metadata": {},
   "outputs": [],
   "source": [
    "import pandas as pd\n",
    "import matplotlib.pyplot as plt\n",
    "import matplotlib as mp \n",
    "import numpy as np\n",
    "from collections import Counter\n",
    "import re\n",
    "import string\n",
    "import warnings\n",
    "from sklearn import metrics\n",
    "warnings.filterwarnings(\"ignore\")\n",
    "\n",
    "# Set jupyter's max row display\n",
    "pd.set_option('display.max_row', 1000)\n",
    "\n",
    "# Set jupyter's max column width to 50\n",
    "pd.set_option('display.max_columns', 50)\n",
    "\n",
    "plt.style.use('ggplot')\n",
    "%matplotlib inline"
   ]
  },
  {
   "cell_type": "code",
   "execution_count": 2,
   "id": "fa9adf2a-092c-46d3-8030-6fb7522ef26a",
   "metadata": {},
   "outputs": [
    {
     "data": {
      "text/html": [
       "<div>\n",
       "<style scoped>\n",
       "    .dataframe tbody tr th:only-of-type {\n",
       "        vertical-align: middle;\n",
       "    }\n",
       "\n",
       "    .dataframe tbody tr th {\n",
       "        vertical-align: top;\n",
       "    }\n",
       "\n",
       "    .dataframe thead th {\n",
       "        text-align: right;\n",
       "    }\n",
       "</style>\n",
       "<table border=\"1\" class=\"dataframe\">\n",
       "  <thead>\n",
       "    <tr style=\"text-align: right;\">\n",
       "      <th></th>\n",
       "      <th>SL.NO.</th>\n",
       "      <th>DEPARTMENT</th>\n",
       "      <th>GENDER (M/F)</th>\n",
       "      <th>PERMANENT LOCATION (STATE)</th>\n",
       "      <th>AGE(YEARS)</th>\n",
       "      <th>NAME OF SCHOOL(IN FULL)-CLASS X</th>\n",
       "      <th>MEDIUM OF INSTRUCTION-CLASS X</th>\n",
       "      <th>% OF CLASS X</th>\n",
       "      <th>MEDIUM OF INSTRUCTION - CLASS XII</th>\n",
       "      <th>% OF CLASS XII</th>\n",
       "      <th>DIPLOMA STREAM</th>\n",
       "      <th>MEDIUM OF INSTRUCTION- DIPLOMA</th>\n",
       "      <th>DIPLOMA AGGREGATE MARKS %</th>\n",
       "      <th>MEDIUM OF INSTRUCTION</th>\n",
       "      <th>SEM 1</th>\n",
       "      <th>SEM 2</th>\n",
       "      <th>SEM 3</th>\n",
       "      <th>SEM 4</th>\n",
       "      <th>SEM 5</th>\n",
       "      <th>SEM AVG</th>\n",
       "      <th>ANY BACKLOG(S) IN CURRENT COURSE(YES/NO)</th>\n",
       "      <th>IF YES, MENTION NUMBER OF BACKLOG(S)</th>\n",
       "    </tr>\n",
       "  </thead>\n",
       "  <tbody>\n",
       "    <tr>\n",
       "      <th>666</th>\n",
       "      <td>670</td>\n",
       "      <td>ME</td>\n",
       "      <td>M</td>\n",
       "      <td>BIHAR</td>\n",
       "      <td>20</td>\n",
       "      <td>GAYATRI YUGAL HIGH SCHOOL DOHARA(NAWADA)</td>\n",
       "      <td>HINDI</td>\n",
       "      <td>67.2</td>\n",
       "      <td>NaN</td>\n",
       "      <td>NaN</td>\n",
       "      <td>AUTOMOBILE ENGINEERING</td>\n",
       "      <td>ENGLISH</td>\n",
       "      <td>72.76</td>\n",
       "      <td>ENGLISH</td>\n",
       "      <td>NaN</td>\n",
       "      <td>NaN</td>\n",
       "      <td>6.66</td>\n",
       "      <td>7.00</td>\n",
       "      <td>5.96</td>\n",
       "      <td>6.540000</td>\n",
       "      <td>YES</td>\n",
       "      <td>2</td>\n",
       "    </tr>\n",
       "    <tr>\n",
       "      <th>667</th>\n",
       "      <td>671</td>\n",
       "      <td>ME</td>\n",
       "      <td>M</td>\n",
       "      <td>WEST BENGAL</td>\n",
       "      <td>24</td>\n",
       "      <td>ARAMBAGH HIGH SCHOOL</td>\n",
       "      <td>BENGALI</td>\n",
       "      <td>71.5</td>\n",
       "      <td>NaN</td>\n",
       "      <td>NaN</td>\n",
       "      <td>PLASTICS TECHNLOGY</td>\n",
       "      <td>ENGLISH</td>\n",
       "      <td>66.37</td>\n",
       "      <td>ENGLISH</td>\n",
       "      <td>NaN</td>\n",
       "      <td>NaN</td>\n",
       "      <td>5.2</td>\n",
       "      <td>4.90</td>\n",
       "      <td>5.11</td>\n",
       "      <td>5.070000</td>\n",
       "      <td>YES</td>\n",
       "      <td>6</td>\n",
       "    </tr>\n",
       "    <tr>\n",
       "      <th>668</th>\n",
       "      <td>672</td>\n",
       "      <td>ME</td>\n",
       "      <td>M</td>\n",
       "      <td>WEST BENGAL</td>\n",
       "      <td>21</td>\n",
       "      <td>GOPALNAGAR BEHARILAL VIDYAPITH</td>\n",
       "      <td>BENGALI</td>\n",
       "      <td>74.62</td>\n",
       "      <td>NaN</td>\n",
       "      <td>NaN</td>\n",
       "      <td>MECHANICAL ENGINEERING</td>\n",
       "      <td>ENGLISH</td>\n",
       "      <td>76.3</td>\n",
       "      <td>ENGLISH</td>\n",
       "      <td>NaN</td>\n",
       "      <td>NaN</td>\n",
       "      <td>6.33</td>\n",
       "      <td>6.54</td>\n",
       "      <td>7.14</td>\n",
       "      <td>6.670000</td>\n",
       "      <td>NO</td>\n",
       "      <td>NaN</td>\n",
       "    </tr>\n",
       "    <tr>\n",
       "      <th>669</th>\n",
       "      <td>673</td>\n",
       "      <td>ME</td>\n",
       "      <td>M</td>\n",
       "      <td>WEST BENGAL</td>\n",
       "      <td>23</td>\n",
       "      <td>BDHAN SCHOOL</td>\n",
       "      <td>ENGLISH</td>\n",
       "      <td>60.5</td>\n",
       "      <td>ENGLISH</td>\n",
       "      <td>47.10</td>\n",
       "      <td>MECHANICAL ENGINEERING</td>\n",
       "      <td>ENGLISH</td>\n",
       "      <td>70.4</td>\n",
       "      <td>ENGLISH</td>\n",
       "      <td>NaN</td>\n",
       "      <td>NaN</td>\n",
       "      <td>6.46</td>\n",
       "      <td>5.92</td>\n",
       "      <td>5.64</td>\n",
       "      <td>6.006667</td>\n",
       "      <td>YES</td>\n",
       "      <td>3</td>\n",
       "    </tr>\n",
       "    <tr>\n",
       "      <th>670</th>\n",
       "      <td>674</td>\n",
       "      <td>ME</td>\n",
       "      <td>M</td>\n",
       "      <td>WEST BENGAL</td>\n",
       "      <td>24</td>\n",
       "      <td>PURNANAGAR PURNACHANDRA HIGH SCHOOL</td>\n",
       "      <td>BENGALI</td>\n",
       "      <td>80</td>\n",
       "      <td>BENGALI</td>\n",
       "      <td>66.28</td>\n",
       "      <td>MECHANICAL ENGINEERING</td>\n",
       "      <td>ENGLISH</td>\n",
       "      <td>78.5</td>\n",
       "      <td>ENGLISH</td>\n",
       "      <td>NaN</td>\n",
       "      <td>NaN</td>\n",
       "      <td>6.77</td>\n",
       "      <td>7.00</td>\n",
       "      <td>6.64</td>\n",
       "      <td>6.803333</td>\n",
       "      <td>YES</td>\n",
       "      <td>1</td>\n",
       "    </tr>\n",
       "  </tbody>\n",
       "</table>\n",
       "</div>"
      ],
      "text/plain": [
       "     SL.NO. DEPARTMENT GENDER (M/F) PERMANENT LOCATION (STATE) AGE(YEARS)  \\\n",
       "666     670         ME            M                      BIHAR         20   \n",
       "667     671         ME            M                WEST BENGAL         24   \n",
       "668     672         ME            M                WEST BENGAL         21   \n",
       "669     673         ME            M                WEST BENGAL         23   \n",
       "670     674         ME            M                WEST BENGAL         24   \n",
       "\n",
       "              NAME OF SCHOOL(IN FULL)-CLASS X MEDIUM OF INSTRUCTION-CLASS X  \\\n",
       "666  GAYATRI YUGAL HIGH SCHOOL DOHARA(NAWADA)                         HINDI   \n",
       "667                      ARAMBAGH HIGH SCHOOL                       BENGALI   \n",
       "668            GOPALNAGAR BEHARILAL VIDYAPITH                       BENGALI   \n",
       "669                              BDHAN SCHOOL                       ENGLISH   \n",
       "670       PURNANAGAR PURNACHANDRA HIGH SCHOOL                       BENGALI   \n",
       "\n",
       "    % OF CLASS X MEDIUM OF INSTRUCTION - CLASS XII  % OF CLASS XII  \\\n",
       "666         67.2                               NaN             NaN   \n",
       "667         71.5                               NaN             NaN   \n",
       "668        74.62                               NaN             NaN   \n",
       "669         60.5                           ENGLISH           47.10   \n",
       "670           80                           BENGALI           66.28   \n",
       "\n",
       "             DIPLOMA STREAM MEDIUM OF INSTRUCTION- DIPLOMA  \\\n",
       "666  AUTOMOBILE ENGINEERING                        ENGLISH   \n",
       "667      PLASTICS TECHNLOGY                        ENGLISH   \n",
       "668  MECHANICAL ENGINEERING                        ENGLISH   \n",
       "669  MECHANICAL ENGINEERING                        ENGLISH   \n",
       "670  MECHANICAL ENGINEERING                        ENGLISH   \n",
       "\n",
       "    DIPLOMA AGGREGATE MARKS %  MEDIUM OF INSTRUCTION  SEM 1  SEM 2 SEM 3  \\\n",
       "666                      72.76               ENGLISH    NaN    NaN  6.66   \n",
       "667                      66.37               ENGLISH    NaN    NaN   5.2   \n",
       "668                       76.3               ENGLISH    NaN    NaN  6.33   \n",
       "669                       70.4               ENGLISH    NaN    NaN  6.46   \n",
       "670                       78.5               ENGLISH    NaN    NaN  6.77   \n",
       "\n",
       "     SEM 4  SEM 5   SEM AVG ANY BACKLOG(S) IN CURRENT COURSE(YES/NO)  \\\n",
       "666   7.00   5.96  6.540000                                      YES   \n",
       "667   4.90   5.11  5.070000                                      YES   \n",
       "668   6.54   7.14  6.670000                                       NO   \n",
       "669   5.92   5.64  6.006667                                      YES   \n",
       "670   7.00   6.64  6.803333                                      YES   \n",
       "\n",
       "    IF YES, MENTION NUMBER OF BACKLOG(S)  \n",
       "666                                    2  \n",
       "667                                    6  \n",
       "668                                  NaN  \n",
       "669                                    3  \n",
       "670                                    1  "
      ]
     },
     "execution_count": 2,
     "metadata": {},
     "output_type": "execute_result"
    }
   ],
   "source": [
    "data = pd.read_excel('data_saved.xlsx')\n",
    "data.tail()\n"
   ]
  },
  {
   "cell_type": "code",
   "execution_count": 3,
   "id": "d6b56c31-34a3-4d85-b6d8-caa84262991c",
   "metadata": {},
   "outputs": [
    {
     "data": {
      "text/plain": [
       "(671, 22)"
      ]
     },
     "execution_count": 3,
     "metadata": {},
     "output_type": "execute_result"
    }
   ],
   "source": [
    "data.shape"
   ]
  },
  {
   "cell_type": "markdown",
   "id": "ee157ad5-3122-4e49-a8dc-be1ca2c6637e",
   "metadata": {},
   "source": [
    "#### Dropping non useful Columns"
   ]
  },
  {
   "cell_type": "code",
   "execution_count": 4,
   "id": "8f1d0a00-601a-4659-9346-015387d74f3c",
   "metadata": {},
   "outputs": [],
   "source": [
    "data.drop(labels=['NAME OF SCHOOL(IN FULL)-CLASS X'],axis=1, inplace=True)"
   ]
  },
  {
   "cell_type": "code",
   "execution_count": 5,
   "id": "49d3c079-2af5-474b-9fc7-e456b9245f36",
   "metadata": {},
   "outputs": [
    {
     "data": {
      "text/html": [
       "<div>\n",
       "<style scoped>\n",
       "    .dataframe tbody tr th:only-of-type {\n",
       "        vertical-align: middle;\n",
       "    }\n",
       "\n",
       "    .dataframe tbody tr th {\n",
       "        vertical-align: top;\n",
       "    }\n",
       "\n",
       "    .dataframe thead th {\n",
       "        text-align: right;\n",
       "    }\n",
       "</style>\n",
       "<table border=\"1\" class=\"dataframe\">\n",
       "  <thead>\n",
       "    <tr style=\"text-align: right;\">\n",
       "      <th></th>\n",
       "      <th>SL.NO.</th>\n",
       "      <th>DEPARTMENT</th>\n",
       "      <th>GENDER (M/F)</th>\n",
       "      <th>PERMANENT LOCATION (STATE)</th>\n",
       "      <th>AGE(YEARS)</th>\n",
       "      <th>MEDIUM OF INSTRUCTION-CLASS X</th>\n",
       "      <th>% OF CLASS X</th>\n",
       "      <th>MEDIUM OF INSTRUCTION - CLASS XII</th>\n",
       "      <th>% OF CLASS XII</th>\n",
       "      <th>DIPLOMA STREAM</th>\n",
       "      <th>MEDIUM OF INSTRUCTION- DIPLOMA</th>\n",
       "      <th>DIPLOMA AGGREGATE MARKS %</th>\n",
       "      <th>MEDIUM OF INSTRUCTION</th>\n",
       "      <th>SEM 1</th>\n",
       "      <th>SEM 2</th>\n",
       "      <th>SEM 3</th>\n",
       "      <th>SEM 4</th>\n",
       "      <th>SEM 5</th>\n",
       "      <th>SEM AVG</th>\n",
       "      <th>ANY BACKLOG(S) IN CURRENT COURSE(YES/NO)</th>\n",
       "      <th>IF YES, MENTION NUMBER OF BACKLOG(S)</th>\n",
       "    </tr>\n",
       "  </thead>\n",
       "  <tbody>\n",
       "    <tr>\n",
       "      <th>0</th>\n",
       "      <td>1</td>\n",
       "      <td>AEIE</td>\n",
       "      <td>F</td>\n",
       "      <td>WEST BENGAL</td>\n",
       "      <td>21</td>\n",
       "      <td>ENGLISH</td>\n",
       "      <td>83.28</td>\n",
       "      <td>ENGLISH</td>\n",
       "      <td>84.66</td>\n",
       "      <td>NaN</td>\n",
       "      <td>NaN</td>\n",
       "      <td>NaN</td>\n",
       "      <td>ENGLISH</td>\n",
       "      <td>8.22</td>\n",
       "      <td>8.45</td>\n",
       "      <td>8.59</td>\n",
       "      <td>9.14</td>\n",
       "      <td>8.40</td>\n",
       "      <td>8.560</td>\n",
       "      <td>NaN</td>\n",
       "      <td>NaN</td>\n",
       "    </tr>\n",
       "    <tr>\n",
       "      <th>1</th>\n",
       "      <td>2</td>\n",
       "      <td>AEIE</td>\n",
       "      <td>F</td>\n",
       "      <td>BIHAR</td>\n",
       "      <td>21</td>\n",
       "      <td>HINDI</td>\n",
       "      <td>70.8</td>\n",
       "      <td>ENGLISH</td>\n",
       "      <td>60.40</td>\n",
       "      <td>NaN</td>\n",
       "      <td>NaN</td>\n",
       "      <td>NaN</td>\n",
       "      <td>ENGLISH</td>\n",
       "      <td>6.52</td>\n",
       "      <td>7.38</td>\n",
       "      <td>6.93</td>\n",
       "      <td>7.97</td>\n",
       "      <td>8.04</td>\n",
       "      <td>7.368</td>\n",
       "      <td>NaN</td>\n",
       "      <td>NaN</td>\n",
       "    </tr>\n",
       "    <tr>\n",
       "      <th>2</th>\n",
       "      <td>3</td>\n",
       "      <td>AEIE</td>\n",
       "      <td>M</td>\n",
       "      <td>JHARKHAND</td>\n",
       "      <td>20</td>\n",
       "      <td>ENGLISH</td>\n",
       "      <td>83.6</td>\n",
       "      <td>ENGLISH</td>\n",
       "      <td>84.00</td>\n",
       "      <td>NaN</td>\n",
       "      <td>NaN</td>\n",
       "      <td>NaN</td>\n",
       "      <td>ENGLISH</td>\n",
       "      <td>8.22</td>\n",
       "      <td>7.93</td>\n",
       "      <td>7.89</td>\n",
       "      <td>7.83</td>\n",
       "      <td>8.44</td>\n",
       "      <td>8.062</td>\n",
       "      <td>NaN</td>\n",
       "      <td>NaN</td>\n",
       "    </tr>\n",
       "    <tr>\n",
       "      <th>3</th>\n",
       "      <td>4</td>\n",
       "      <td>AEIE</td>\n",
       "      <td>F</td>\n",
       "      <td>WEST BENGAL</td>\n",
       "      <td>21</td>\n",
       "      <td>ENGLISH</td>\n",
       "      <td>87.38</td>\n",
       "      <td>ENGLISH</td>\n",
       "      <td>84.57</td>\n",
       "      <td>NaN</td>\n",
       "      <td>NaN</td>\n",
       "      <td>NaN</td>\n",
       "      <td>ENGLISH</td>\n",
       "      <td>8.59</td>\n",
       "      <td>8.45</td>\n",
       "      <td>9.04</td>\n",
       "      <td>9.59</td>\n",
       "      <td>9.08</td>\n",
       "      <td>8.950</td>\n",
       "      <td>NaN</td>\n",
       "      <td>NaN</td>\n",
       "    </tr>\n",
       "    <tr>\n",
       "      <th>4</th>\n",
       "      <td>5</td>\n",
       "      <td>AEIE</td>\n",
       "      <td>F</td>\n",
       "      <td>BIHAR</td>\n",
       "      <td>21</td>\n",
       "      <td>ENGLISH</td>\n",
       "      <td>91.14</td>\n",
       "      <td>ENGLISH</td>\n",
       "      <td>85.80</td>\n",
       "      <td>NaN</td>\n",
       "      <td>NaN</td>\n",
       "      <td>NaN</td>\n",
       "      <td>ENGLISH</td>\n",
       "      <td>7.70</td>\n",
       "      <td>8.28</td>\n",
       "      <td>7.85</td>\n",
       "      <td>7.79</td>\n",
       "      <td>7.80</td>\n",
       "      <td>7.884</td>\n",
       "      <td>NaN</td>\n",
       "      <td>NaN</td>\n",
       "    </tr>\n",
       "  </tbody>\n",
       "</table>\n",
       "</div>"
      ],
      "text/plain": [
       "   SL.NO. DEPARTMENT GENDER (M/F) PERMANENT LOCATION (STATE) AGE(YEARS)  \\\n",
       "0       1       AEIE            F                WEST BENGAL         21   \n",
       "1       2       AEIE            F                      BIHAR         21   \n",
       "2       3       AEIE            M                  JHARKHAND         20   \n",
       "3       4       AEIE            F                WEST BENGAL         21   \n",
       "4       5       AEIE            F                      BIHAR         21   \n",
       "\n",
       "  MEDIUM OF INSTRUCTION-CLASS X % OF CLASS X  \\\n",
       "0                       ENGLISH        83.28   \n",
       "1                         HINDI         70.8   \n",
       "2                       ENGLISH         83.6   \n",
       "3                       ENGLISH        87.38   \n",
       "4                       ENGLISH        91.14   \n",
       "\n",
       "  MEDIUM OF INSTRUCTION - CLASS XII  % OF CLASS XII DIPLOMA STREAM  \\\n",
       "0                           ENGLISH           84.66            NaN   \n",
       "1                           ENGLISH           60.40            NaN   \n",
       "2                           ENGLISH           84.00            NaN   \n",
       "3                           ENGLISH           84.57            NaN   \n",
       "4                           ENGLISH           85.80            NaN   \n",
       "\n",
       "  MEDIUM OF INSTRUCTION- DIPLOMA DIPLOMA AGGREGATE MARKS %   \\\n",
       "0                            NaN                        NaN   \n",
       "1                            NaN                        NaN   \n",
       "2                            NaN                        NaN   \n",
       "3                            NaN                        NaN   \n",
       "4                            NaN                        NaN   \n",
       "\n",
       "  MEDIUM OF INSTRUCTION  SEM 1  SEM 2 SEM 3  SEM 4  SEM 5  SEM AVG  \\\n",
       "0               ENGLISH   8.22   8.45  8.59   9.14   8.40    8.560   \n",
       "1               ENGLISH   6.52   7.38  6.93   7.97   8.04    7.368   \n",
       "2               ENGLISH   8.22   7.93  7.89   7.83   8.44    8.062   \n",
       "3               ENGLISH   8.59   8.45  9.04   9.59   9.08    8.950   \n",
       "4               ENGLISH   7.70   8.28  7.85   7.79   7.80    7.884   \n",
       "\n",
       "  ANY BACKLOG(S) IN CURRENT COURSE(YES/NO)  \\\n",
       "0                                      NaN   \n",
       "1                                      NaN   \n",
       "2                                      NaN   \n",
       "3                                      NaN   \n",
       "4                                      NaN   \n",
       "\n",
       "  IF YES, MENTION NUMBER OF BACKLOG(S)  \n",
       "0                                  NaN  \n",
       "1                                  NaN  \n",
       "2                                  NaN  \n",
       "3                                  NaN  \n",
       "4                                  NaN  "
      ]
     },
     "execution_count": 5,
     "metadata": {},
     "output_type": "execute_result"
    }
   ],
   "source": [
    "data.head()"
   ]
  },
  {
   "cell_type": "code",
   "execution_count": 6,
   "id": "b1b02342-42a1-404f-8fae-1e233875c004",
   "metadata": {},
   "outputs": [
    {
     "data": {
      "text/plain": [
       "SL.NO.                                        0\n",
       "DEPARTMENT                                    0\n",
       "GENDER (M/F)                                  0\n",
       "PERMANENT LOCATION (STATE)                    3\n",
       "AGE(YEARS)                                    0\n",
       "MEDIUM OF INSTRUCTION-CLASS X                 2\n",
       "% OF CLASS X                                  5\n",
       "MEDIUM OF INSTRUCTION - CLASS XII            50\n",
       "% OF CLASS XII                               51\n",
       "DIPLOMA STREAM                              573\n",
       "MEDIUM OF INSTRUCTION- DIPLOMA              579\n",
       "DIPLOMA AGGREGATE MARKS %                   578\n",
       "MEDIUM OF INSTRUCTION                         4\n",
       "SEM 1                                        89\n",
       "SEM 2                                        90\n",
       "SEM 3                                         9\n",
       "SEM 4                                        15\n",
       "SEM 5                                        15\n",
       "SEM AVG                                      26\n",
       "ANY BACKLOG(S) IN CURRENT COURSE(YES/NO)    117\n",
       "IF YES, MENTION NUMBER OF BACKLOG(S)        515\n",
       "dtype: int64"
      ]
     },
     "execution_count": 6,
     "metadata": {},
     "output_type": "execute_result"
    }
   ],
   "source": [
    "data.isna().sum()"
   ]
  },
  {
   "cell_type": "markdown",
   "id": "24ec42ff-8a32-4301-b38a-202ea6e2cd7e",
   "metadata": {},
   "source": [
    "### Deleting **nan** rows of column 'PERMANENT LOCATION (STATE)'"
   ]
  },
  {
   "cell_type": "code",
   "execution_count": 7,
   "id": "3be59d72-2298-4412-93d5-347f49995a9d",
   "metadata": {},
   "outputs": [],
   "source": [
    "\n",
    "data=data.dropna(subset=['PERMANENT LOCATION (STATE)'])\n"
   ]
  },
  {
   "cell_type": "code",
   "execution_count": 8,
   "id": "96649fe0-c5ed-4687-89b8-2b330504ddfc",
   "metadata": {},
   "outputs": [
    {
     "data": {
      "text/plain": [
       "(668, 21)"
      ]
     },
     "execution_count": 8,
     "metadata": {},
     "output_type": "execute_result"
    }
   ],
   "source": [
    "data.shape"
   ]
  },
  {
   "cell_type": "markdown",
   "id": "917866a5-e4ad-48a1-99d1-72f09a12cc30",
   "metadata": {},
   "source": [
    "### Student count per department"
   ]
  },
  {
   "cell_type": "code",
   "execution_count": 9,
   "id": "46307adb-07e5-464f-8730-4c8997f72aad",
   "metadata": {},
   "outputs": [
    {
     "data": {
      "text/html": [
       "<div>\n",
       "<style scoped>\n",
       "    .dataframe tbody tr th:only-of-type {\n",
       "        vertical-align: middle;\n",
       "    }\n",
       "\n",
       "    .dataframe tbody tr th {\n",
       "        vertical-align: top;\n",
       "    }\n",
       "\n",
       "    .dataframe thead th {\n",
       "        text-align: right;\n",
       "    }\n",
       "</style>\n",
       "<table border=\"1\" class=\"dataframe\">\n",
       "  <thead>\n",
       "    <tr style=\"text-align: right;\">\n",
       "      <th></th>\n",
       "      <th>DEPARTMENT</th>\n",
       "      <th>No. of students</th>\n",
       "    </tr>\n",
       "  </thead>\n",
       "  <tbody>\n",
       "    <tr>\n",
       "      <th>0</th>\n",
       "      <td>AEIE</td>\n",
       "      <td>54</td>\n",
       "    </tr>\n",
       "    <tr>\n",
       "      <th>1</th>\n",
       "      <td>BME</td>\n",
       "      <td>24</td>\n",
       "    </tr>\n",
       "    <tr>\n",
       "      <th>2</th>\n",
       "      <td>CE</td>\n",
       "      <td>67</td>\n",
       "    </tr>\n",
       "    <tr>\n",
       "      <th>3</th>\n",
       "      <td>CSE</td>\n",
       "      <td>136</td>\n",
       "    </tr>\n",
       "    <tr>\n",
       "      <th>4</th>\n",
       "      <td>ECE</td>\n",
       "      <td>125</td>\n",
       "    </tr>\n",
       "    <tr>\n",
       "      <th>5</th>\n",
       "      <td>EE</td>\n",
       "      <td>123</td>\n",
       "    </tr>\n",
       "    <tr>\n",
       "      <th>6</th>\n",
       "      <td>IT</td>\n",
       "      <td>79</td>\n",
       "    </tr>\n",
       "    <tr>\n",
       "      <th>7</th>\n",
       "      <td>ME</td>\n",
       "      <td>60</td>\n",
       "    </tr>\n",
       "  </tbody>\n",
       "</table>\n",
       "</div>"
      ],
      "text/plain": [
       "  DEPARTMENT  No. of students\n",
       "0       AEIE               54\n",
       "1        BME               24\n",
       "2         CE               67\n",
       "3        CSE              136\n",
       "4        ECE              125\n",
       "5         EE              123\n",
       "6         IT               79\n",
       "7         ME               60"
      ]
     },
     "execution_count": 9,
     "metadata": {},
     "output_type": "execute_result"
    }
   ],
   "source": [
    "data.groupby('DEPARTMENT')['SL.NO.'].count().reset_index(name='No. of students')"
   ]
  },
  {
   "cell_type": "code",
   "execution_count": 10,
   "id": "57b447ac-52a0-42f6-9a81-afe893f20543",
   "metadata": {},
   "outputs": [
    {
     "data": {
      "image/png": "[encoded data removed]",
      "text/plain": [
       "<Figure size 700x500 with 1 Axes>"
      ]
     },
     "metadata": {},
     "output_type": "display_data"
    }
   ],
   "source": [
    "subplot = data.groupby('DEPARTMENT')['SL.NO.'].count().plot(kind='bar',figsize=(7,5))\n",
    "subplot.set_ylabel('Number of Students')\n",
    "subplot.set_title('Number of Students per Department', fontsize = 15)\n",
    "for i in subplot.patches:\n",
    "    # get_width pulls left or right; get_y pushes up or down\n",
    "    subplot.text(i.get_width()+.3, i.get_y()+.2, \\\n",
    "            str(i.get_width()), fontsize=15,)"
   ]
  },
  {
   "cell_type": "markdown",
   "id": "c48a2ba4-65ae-427e-a033-e15fdec25991",
   "metadata": {},
   "source": [
    "### Highest semester grade obtained by a student from a particular department?"
   ]
  },
  {
   "cell_type": "code",
   "execution_count": 11,
   "id": "b21f2d16-7741-402f-b5e9-a5351fd99f38",
   "metadata": {},
   "outputs": [
    {
     "data": {
      "text/html": [
       "<div>\n",
       "<style scoped>\n",
       "    .dataframe tbody tr th:only-of-type {\n",
       "        vertical-align: middle;\n",
       "    }\n",
       "\n",
       "    .dataframe tbody tr th {\n",
       "        vertical-align: top;\n",
       "    }\n",
       "\n",
       "    .dataframe thead th {\n",
       "        text-align: right;\n",
       "    }\n",
       "</style>\n",
       "<table border=\"1\" class=\"dataframe\">\n",
       "  <thead>\n",
       "    <tr style=\"text-align: right;\">\n",
       "      <th></th>\n",
       "      <th>DEPARTMENT</th>\n",
       "      <th>Highest Average Semester Grade</th>\n",
       "    </tr>\n",
       "  </thead>\n",
       "  <tbody>\n",
       "    <tr>\n",
       "      <th>0</th>\n",
       "      <td>AEIE</td>\n",
       "      <td>8.950</td>\n",
       "    </tr>\n",
       "    <tr>\n",
       "      <th>1</th>\n",
       "      <td>BME</td>\n",
       "      <td>8.966</td>\n",
       "    </tr>\n",
       "    <tr>\n",
       "      <th>2</th>\n",
       "      <td>CE</td>\n",
       "      <td>9.432</td>\n",
       "    </tr>\n",
       "    <tr>\n",
       "      <th>3</th>\n",
       "      <td>CSE</td>\n",
       "      <td>9.540</td>\n",
       "    </tr>\n",
       "    <tr>\n",
       "      <th>4</th>\n",
       "      <td>ECE</td>\n",
       "      <td>9.502</td>\n",
       "    </tr>\n",
       "    <tr>\n",
       "      <th>5</th>\n",
       "      <td>EE</td>\n",
       "      <td>9.268</td>\n",
       "    </tr>\n",
       "    <tr>\n",
       "      <th>6</th>\n",
       "      <td>IT</td>\n",
       "      <td>8.726</td>\n",
       "    </tr>\n",
       "    <tr>\n",
       "      <th>7</th>\n",
       "      <td>ME</td>\n",
       "      <td>9.006</td>\n",
       "    </tr>\n",
       "  </tbody>\n",
       "</table>\n",
       "</div>"
      ],
      "text/plain": [
       "  DEPARTMENT  Highest Average Semester Grade\n",
       "0       AEIE                           8.950\n",
       "1        BME                           8.966\n",
       "2         CE                           9.432\n",
       "3        CSE                           9.540\n",
       "4        ECE                           9.502\n",
       "5         EE                           9.268\n",
       "6         IT                           8.726\n",
       "7         ME                           9.006"
      ]
     },
     "execution_count": 11,
     "metadata": {},
     "output_type": "execute_result"
    }
   ],
   "source": [
    "data.groupby('DEPARTMENT')['SEM AVG'].max().reset_index(name = 'Highest Average Semester Grade')"
   ]
  },
  {
   "cell_type": "code",
   "execution_count": 12,
   "id": "f5c4633b-1e98-478d-92fd-9db9e7176f39",
   "metadata": {},
   "outputs": [
    {
     "data": {
      "image/png": "[encoded data removed]",
      "text/plain": [
       "<Figure size 700x500 with 1 Axes>"
      ]
     },
     "metadata": {},
     "output_type": "display_data"
    }
   ],
   "source": [
    "subplot = data.groupby('DEPARTMENT')['SEM AVG'].max().plot(kind='barh',figsize=(7,5))\n",
    "subplot.set_ylabel('Grade')\n",
    "subplot.set_title('Highest Average Semester Grade per Department', fontsize = 15)\n",
    "for i in subplot.patches:\n",
    "    # get_width pulls left or right; get_y pushes up or down\n",
    "    subplot.text(i.get_width()+.1, i.get_y()+.1, \\\n",
    "            str(round(i.get_width(),2)), fontsize=13)"
   ]
  },
  {
   "cell_type": "code",
   "execution_count": 13,
   "id": "6ba14c4c-bd55-4067-b6dd-a1e8563eb1d3",
   "metadata": {},
   "outputs": [
    {
     "data": {
      "text/html": [
       "<div>\n",
       "<style scoped>\n",
       "    .dataframe tbody tr th:only-of-type {\n",
       "        vertical-align: middle;\n",
       "    }\n",
       "\n",
       "    .dataframe tbody tr th {\n",
       "        vertical-align: top;\n",
       "    }\n",
       "\n",
       "    .dataframe thead th {\n",
       "        text-align: right;\n",
       "    }\n",
       "</style>\n",
       "<table border=\"1\" class=\"dataframe\">\n",
       "  <thead>\n",
       "    <tr style=\"text-align: right;\">\n",
       "      <th></th>\n",
       "      <th>SEM AVG</th>\n",
       "    </tr>\n",
       "  </thead>\n",
       "  <tbody>\n",
       "    <tr>\n",
       "      <th>146</th>\n",
       "      <td>7.550</td>\n",
       "    </tr>\n",
       "    <tr>\n",
       "      <th>147</th>\n",
       "      <td>8.722</td>\n",
       "    </tr>\n",
       "    <tr>\n",
       "      <th>148</th>\n",
       "      <td>8.190</td>\n",
       "    </tr>\n",
       "    <tr>\n",
       "      <th>149</th>\n",
       "      <td>8.380</td>\n",
       "    </tr>\n",
       "    <tr>\n",
       "      <th>150</th>\n",
       "      <td>8.270</td>\n",
       "    </tr>\n",
       "  </tbody>\n",
       "</table>\n",
       "</div>"
      ],
      "text/plain": [
       "     SEM AVG\n",
       "146    7.550\n",
       "147    8.722\n",
       "148    8.190\n",
       "149    8.380\n",
       "150    8.270"
      ]
     },
     "execution_count": 13,
     "metadata": {},
     "output_type": "execute_result"
    }
   ],
   "source": [
    "data[data['DEPARTMENT'] == 'CSE'][['SEM AVG']].head()"
   ]
  },
  {
   "cell_type": "markdown",
   "id": "a22f846a-89f3-4911-ab4f-92f55d4d6dbb",
   "metadata": {},
   "source": [
    "### State-wise student count"
   ]
  },
  {
   "cell_type": "code",
   "execution_count": 14,
   "id": "a24ec954-e189-4d3a-a32e-c4119c260a41",
   "metadata": {},
   "outputs": [
    {
     "data": {
      "text/plain": [
       "WEST BENGAL                    480\n",
       "BIHAR                           94\n",
       "JHARKHAND                       44\n",
       "WESTBENGAL                      18\n",
       "WEST BENGAL                      6\n",
       "West Bengal                      5\n",
       "TRIPURA                          5\n",
       "WEST-BENGAL                      3\n",
       " WEST BENGAL                     2\n",
       "WB                               2\n",
       "                WEST BENGAL      1\n",
       "               JHARKHAND         1\n",
       "WEST BENGAL.                     1\n",
       "WEST BINGAL                      1\n",
       "INDIA                            1\n",
       "               WEST BENGAL       1\n",
       "UTTARAKHAND                      1\n",
       "West bengal                      1\n",
       "DELHI                            1\n",
       "Name: PERMANENT LOCATION (STATE), dtype: int64"
      ]
     },
     "execution_count": 14,
     "metadata": {},
     "output_type": "execute_result"
    }
   ],
   "source": [
    "data['PERMANENT LOCATION (STATE)'].value_counts()"
   ]
  },
  {
   "cell_type": "markdown",
   "id": "bb4e00bf-ecac-48bb-943b-72cc3e6c6ad0",
   "metadata": {},
   "source": [
    "For the same state **West Bengal**, we have several variants like WB, WEST-BENGAL and so on. There are even cases where several spaces are appended before the word. Let's try to give it a proper shape. Otherwise, the numbers will be faulty. We will stick to the name WEST BENGAL and will replace the other variants accordingly. We have this problem for other states as well.\n",
    "\n",
    "**Quick observation**: A candidate has even given India as his/her state"
   ]
  },
  {
   "cell_type": "code",
   "execution_count": 15,
   "id": "1bcf91b2-9f92-4d96-8f64-5077a0833509",
   "metadata": {},
   "outputs": [],
   "source": [
    "# # Manual engineering but okay! Can be written in an efficient manner using regex\n",
    "# # The correct entries have also been specified. This is to avoid the entry of NaNs. \n",
    "# data['PERMANENT LOCATION (STATE)'] = data['PERMANENT LOCATION (STATE)'] .map({'WESTBENGAL':'WEST BENGAL',\n",
    "# 'WEST BENGAL':'WEST BENGAL', 'West Bengal':'WEST BENGAL', 'WEST-BENGAL':'WEST BENGAL',\n",
    "# ' WEST BENGAL':'WEST BENGAL', 'WB':'WEST BENGAL','West bengal':'WEST BENGAL', 'WEST BINGAL': 'WEST BENGAL',\n",
    "# '               WEST BENGAL':'WEST BENGAL', '                WEST BENGAL':'WEST BENGAL','WEST BENGAL.':'WEST BENGAL',\n",
    "# '               JHARKHAND':'JHARKHAND','BIHAR':'BIHAR','TRIPURA':'TRIPURA','JHARKHAND':'JHARKHAND','UTTARAKHAND':'UTTARAKHAND',\n",
    "# 'DELHI':'DELHI','INDIA':'INDIA'})\n",
    "\n",
    "\n",
    "# data['PERMANENT LOCATION (STATE)'] \n"
   ]
  },
  {
   "cell_type": "code",
   "execution_count": 16,
   "id": "d5567487-865d-43fc-b277-f7f7a51a5d18",
   "metadata": {},
   "outputs": [],
   "source": [
    "import re\n",
    "\n",
    "for i, row in data.iterrows():\n",
    "    match = re.findall(r'\\s*[B|b]engal|BENGAL|WEST|west|WB|wb|[W|w]est\\s*',row['PERMANENT LOCATION (STATE)'])\n",
    "    if match:\n",
    "        data.at[i,'PERMANENT LOCATION (STATE)'] = \"WEST BENGAL\"\n",
    "\n",
    "    \n",
    "# for i in data['PERMANENT LOCATION (STATE)']:\n",
    "#         print(i)\n",
    "\n",
    "#         match = re.findall(r'\\s*[B|b]engal|BENGAL|WEST|west|WB|wb|[W|w]est\\s*',i)\n",
    "#         print(match)\n",
    "\n",
    "#         if match:\n",
    "#             # print(\"WEST BENGAL\")\n",
    "#             i = \"WEST BENGAL ---\"\n",
    "#             # data['PERMANENT LOCATION (STATE)'] = \"WEST BENGAL\"\n",
    "# else:\n",
    "#     print(\"Invalid\")\n",
    "\n",
    "\n",
    "for i, row in data.iterrows():\n",
    "    match = re.findall(r'\\s*JHARKHAND\\s*',row['PERMANENT LOCATION (STATE)'])\n",
    "    if match:\n",
    "        data.at[i,'PERMANENT LOCATION (STATE)'] = \"JHARKHAND\"\n",
    "\n",
    "        "
   ]
  },
  {
   "cell_type": "code",
   "execution_count": 17,
   "id": "e4e70b21-bd46-4cb7-8082-ce39b2628be6",
   "metadata": {},
   "outputs": [
    {
     "data": {
      "text/html": [
       "<div>\n",
       "<style scoped>\n",
       "    .dataframe tbody tr th:only-of-type {\n",
       "        vertical-align: middle;\n",
       "    }\n",
       "\n",
       "    .dataframe tbody tr th {\n",
       "        vertical-align: top;\n",
       "    }\n",
       "\n",
       "    .dataframe thead th {\n",
       "        text-align: right;\n",
       "    }\n",
       "</style>\n",
       "<table border=\"1\" class=\"dataframe\">\n",
       "  <thead>\n",
       "    <tr style=\"text-align: right;\">\n",
       "      <th></th>\n",
       "      <th>State</th>\n",
       "      <th>Number of students</th>\n",
       "    </tr>\n",
       "  </thead>\n",
       "  <tbody>\n",
       "    <tr>\n",
       "      <th>0</th>\n",
       "      <td>WEST BENGAL</td>\n",
       "      <td>521</td>\n",
       "    </tr>\n",
       "    <tr>\n",
       "      <th>1</th>\n",
       "      <td>BIHAR</td>\n",
       "      <td>94</td>\n",
       "    </tr>\n",
       "    <tr>\n",
       "      <th>2</th>\n",
       "      <td>JHARKHAND</td>\n",
       "      <td>45</td>\n",
       "    </tr>\n",
       "    <tr>\n",
       "      <th>3</th>\n",
       "      <td>TRIPURA</td>\n",
       "      <td>5</td>\n",
       "    </tr>\n",
       "    <tr>\n",
       "      <th>4</th>\n",
       "      <td>UTTARAKHAND</td>\n",
       "      <td>1</td>\n",
       "    </tr>\n",
       "    <tr>\n",
       "      <th>5</th>\n",
       "      <td>INDIA</td>\n",
       "      <td>1</td>\n",
       "    </tr>\n",
       "    <tr>\n",
       "      <th>6</th>\n",
       "      <td>DELHI</td>\n",
       "      <td>1</td>\n",
       "    </tr>\n",
       "  </tbody>\n",
       "</table>\n",
       "</div>"
      ],
      "text/plain": [
       "         State  Number of students\n",
       "0  WEST BENGAL                 521\n",
       "1        BIHAR                  94\n",
       "2    JHARKHAND                  45\n",
       "3      TRIPURA                   5\n",
       "4  UTTARAKHAND                   1\n",
       "5        INDIA                   1\n",
       "6        DELHI                   1"
      ]
     },
     "execution_count": 17,
     "metadata": {},
     "output_type": "execute_result"
    }
   ],
   "source": [
    "no_students_state_wise = data['PERMANENT LOCATION (STATE)'].value_counts().reset_index(name='Number of students')\n",
    "no_students_state_wise.rename(columns={'index':'State'},inplace=True)\n",
    "no_students_state_wise"
   ]
  },
  {
   "cell_type": "code",
   "execution_count": 18,
   "id": "b0c9a032-cd31-4719-82ab-f5de7297c543",
   "metadata": {},
   "outputs": [
    {
     "data": {
      "image/png": "[encoded data removed]",
      "text/plain": [
       "<Figure size 800x600 with 1 Axes>"
      ]
     },
     "metadata": {},
     "output_type": "display_data"
    }
   ],
   "source": [
    "subplot = data['PERMANENT LOCATION (STATE)'].value_counts().plot(kind='barh',figsize=(8,6))\n",
    "subplot.set_ylabel('')\n",
    "subplot.set_title('State-wise Distribution of Students', fontsize = 20)\n",
    "for i in subplot.patches:\n",
    "    # get_width pulls left or right; get_y pushes up or down\n",
    "    subplot.text(i.get_width()+.1, i.get_y()+.1, \\\n",
    "            str(round(i.get_width(),2)), fontsize=13)"
   ]
  },
  {
   "cell_type": "markdown",
   "id": "2e36b9c2-4fff-4a59-8494-4309584fcc52",
   "metadata": {},
   "source": [
    "dropping the row corresponding to India."
   ]
  },
  {
   "cell_type": "code",
   "execution_count": 19,
   "id": "4ac5b356-1a2f-43fd-ae59-41219393ff46",
   "metadata": {},
   "outputs": [
    {
     "data": {
      "text/html": [
       "<div>\n",
       "<style scoped>\n",
       "    .dataframe tbody tr th:only-of-type {\n",
       "        vertical-align: middle;\n",
       "    }\n",
       "\n",
       "    .dataframe tbody tr th {\n",
       "        vertical-align: top;\n",
       "    }\n",
       "\n",
       "    .dataframe thead th {\n",
       "        text-align: right;\n",
       "    }\n",
       "</style>\n",
       "<table border=\"1\" class=\"dataframe\">\n",
       "  <thead>\n",
       "    <tr style=\"text-align: right;\">\n",
       "      <th></th>\n",
       "      <th>SL.NO.</th>\n",
       "      <th>DEPARTMENT</th>\n",
       "      <th>GENDER (M/F)</th>\n",
       "      <th>PERMANENT LOCATION (STATE)</th>\n",
       "      <th>AGE(YEARS)</th>\n",
       "      <th>MEDIUM OF INSTRUCTION-CLASS X</th>\n",
       "      <th>% OF CLASS X</th>\n",
       "      <th>MEDIUM OF INSTRUCTION - CLASS XII</th>\n",
       "      <th>% OF CLASS XII</th>\n",
       "      <th>DIPLOMA STREAM</th>\n",
       "      <th>MEDIUM OF INSTRUCTION- DIPLOMA</th>\n",
       "      <th>DIPLOMA AGGREGATE MARKS %</th>\n",
       "      <th>MEDIUM OF INSTRUCTION</th>\n",
       "      <th>SEM 1</th>\n",
       "      <th>SEM 2</th>\n",
       "      <th>SEM 3</th>\n",
       "      <th>SEM 4</th>\n",
       "      <th>SEM 5</th>\n",
       "      <th>SEM AVG</th>\n",
       "      <th>ANY BACKLOG(S) IN CURRENT COURSE(YES/NO)</th>\n",
       "      <th>IF YES, MENTION NUMBER OF BACKLOG(S)</th>\n",
       "    </tr>\n",
       "  </thead>\n",
       "  <tbody>\n",
       "    <tr>\n",
       "      <th>249</th>\n",
       "      <td>250</td>\n",
       "      <td>CSE</td>\n",
       "      <td>M</td>\n",
       "      <td>INDIA</td>\n",
       "      <td>21</td>\n",
       "      <td>BENGALI</td>\n",
       "      <td>76.9</td>\n",
       "      <td>ENGLISH</td>\n",
       "      <td>58.6</td>\n",
       "      <td>NaN</td>\n",
       "      <td>NaN</td>\n",
       "      <td>NaN</td>\n",
       "      <td>ENGLISH</td>\n",
       "      <td>7.04</td>\n",
       "      <td>7.28</td>\n",
       "      <td>7.14</td>\n",
       "      <td>6.73</td>\n",
       "      <td>7.15</td>\n",
       "      <td>7.068</td>\n",
       "      <td>NO</td>\n",
       "      <td>NaN</td>\n",
       "    </tr>\n",
       "  </tbody>\n",
       "</table>\n",
       "</div>"
      ],
      "text/plain": [
       "     SL.NO. DEPARTMENT GENDER (M/F) PERMANENT LOCATION (STATE) AGE(YEARS)  \\\n",
       "249     250        CSE            M                      INDIA         21   \n",
       "\n",
       "    MEDIUM OF INSTRUCTION-CLASS X % OF CLASS X  \\\n",
       "249                       BENGALI         76.9   \n",
       "\n",
       "    MEDIUM OF INSTRUCTION - CLASS XII  % OF CLASS XII DIPLOMA STREAM  \\\n",
       "249                           ENGLISH            58.6            NaN   \n",
       "\n",
       "    MEDIUM OF INSTRUCTION- DIPLOMA DIPLOMA AGGREGATE MARKS %   \\\n",
       "249                            NaN                        NaN   \n",
       "\n",
       "    MEDIUM OF INSTRUCTION  SEM 1  SEM 2 SEM 3  SEM 4  SEM 5  SEM AVG  \\\n",
       "249               ENGLISH   7.04   7.28  7.14   6.73   7.15    7.068   \n",
       "\n",
       "    ANY BACKLOG(S) IN CURRENT COURSE(YES/NO)  \\\n",
       "249                                       NO   \n",
       "\n",
       "    IF YES, MENTION NUMBER OF BACKLOG(S)  \n",
       "249                                  NaN  "
      ]
     },
     "execution_count": 19,
     "metadata": {},
     "output_type": "execute_result"
    }
   ],
   "source": [
    "data[data['PERMANENT LOCATION (STATE)'] == 'INDIA']"
   ]
  },
  {
   "cell_type": "code",
   "execution_count": 20,
   "id": "8823e1a8-6eff-4c7a-a97d-bb6c57a4d2f1",
   "metadata": {},
   "outputs": [],
   "source": [
    "data.drop(index=249, inplace=True)"
   ]
  },
  {
   "cell_type": "code",
   "execution_count": 21,
   "id": "22e97b98-0cbb-4814-9e19-844fd8d29e84",
   "metadata": {},
   "outputs": [
    {
     "data": {
      "text/html": [
       "<div>\n",
       "<style scoped>\n",
       "    .dataframe tbody tr th:only-of-type {\n",
       "        vertical-align: middle;\n",
       "    }\n",
       "\n",
       "    .dataframe tbody tr th {\n",
       "        vertical-align: top;\n",
       "    }\n",
       "\n",
       "    .dataframe thead th {\n",
       "        text-align: right;\n",
       "    }\n",
       "</style>\n",
       "<table border=\"1\" class=\"dataframe\">\n",
       "  <thead>\n",
       "    <tr style=\"text-align: right;\">\n",
       "      <th></th>\n",
       "      <th>SL.NO.</th>\n",
       "      <th>DEPARTMENT</th>\n",
       "      <th>GENDER (M/F)</th>\n",
       "      <th>PERMANENT LOCATION (STATE)</th>\n",
       "      <th>AGE(YEARS)</th>\n",
       "      <th>MEDIUM OF INSTRUCTION-CLASS X</th>\n",
       "      <th>% OF CLASS X</th>\n",
       "      <th>MEDIUM OF INSTRUCTION - CLASS XII</th>\n",
       "      <th>% OF CLASS XII</th>\n",
       "      <th>DIPLOMA STREAM</th>\n",
       "      <th>MEDIUM OF INSTRUCTION- DIPLOMA</th>\n",
       "      <th>DIPLOMA AGGREGATE MARKS %</th>\n",
       "      <th>MEDIUM OF INSTRUCTION</th>\n",
       "      <th>SEM 1</th>\n",
       "      <th>SEM 2</th>\n",
       "      <th>SEM 3</th>\n",
       "      <th>SEM 4</th>\n",
       "      <th>SEM 5</th>\n",
       "      <th>SEM AVG</th>\n",
       "      <th>ANY BACKLOG(S) IN CURRENT COURSE(YES/NO)</th>\n",
       "      <th>IF YES, MENTION NUMBER OF BACKLOG(S)</th>\n",
       "    </tr>\n",
       "  </thead>\n",
       "  <tbody>\n",
       "  </tbody>\n",
       "</table>\n",
       "</div>"
      ],
      "text/plain": [
       "Empty DataFrame\n",
       "Columns: [SL.NO., DEPARTMENT, GENDER (M/F), PERMANENT LOCATION (STATE), AGE(YEARS), MEDIUM OF INSTRUCTION-CLASS X, % OF CLASS X, MEDIUM OF INSTRUCTION - CLASS XII, % OF CLASS XII, DIPLOMA STREAM, MEDIUM OF INSTRUCTION- DIPLOMA, DIPLOMA AGGREGATE MARKS % , MEDIUM OF INSTRUCTION, SEM 1, SEM 2, SEM 3, SEM 4, SEM 5, SEM AVG, ANY BACKLOG(S) IN CURRENT COURSE(YES/NO), IF YES, MENTION NUMBER OF BACKLOG(S)]\n",
       "Index: []"
      ]
     },
     "execution_count": 21,
     "metadata": {},
     "output_type": "execute_result"
    }
   ],
   "source": [
    "data[data['PERMANENT LOCATION (STATE)'] == 'INDIA']"
   ]
  },
  {
   "cell_type": "markdown",
   "id": "bbd6de0e-b8bf-48b8-8e38-f8274895d375",
   "metadata": {},
   "source": [
    "The intended record has been successfully deleted."
   ]
  },
  {
   "cell_type": "code",
   "execution_count": 22,
   "id": "5f90b3ca-e0cb-4e4b-880d-7ef45dc38c05",
   "metadata": {},
   "outputs": [
    {
     "data": {
      "image/png": "[encoded data removed]",
      "text/plain": [
       "<Figure size 800x600 with 1 Axes>"
      ]
     },
     "metadata": {},
     "output_type": "display_data"
    }
   ],
   "source": [
    "subplot = data['PERMANENT LOCATION (STATE)'].value_counts().plot(kind='barh',figsize=(8,6))\n",
    "subplot.set_ylabel('')\n",
    "subplot.set_title('State-wise Distribution of Students', fontsize = 20)\n",
    "for i in subplot.patches:\n",
    "    # get_width pulls left or right; get_y pushes up or down\n",
    "    subplot.text(i.get_width()+.1, i.get_y()+.1, \\\n",
    "            str(round(i.get_width(),2)), fontsize=13)"
   ]
  },
  {
   "cell_type": "markdown",
   "id": "63d35c71-43fa-4c91-a049-a8f5d94a99d4",
   "metadata": {},
   "source": [
    "### Performance of toppers in their high school examinations?"
   ]
  },
  {
   "cell_type": "code",
   "execution_count": 23,
   "id": "936eb63f-39ec-4f98-b67b-1c2534b78af4",
   "metadata": {},
   "outputs": [
    {
     "data": {
      "text/html": [
       "<div>\n",
       "<style scoped>\n",
       "    .dataframe tbody tr th:only-of-type {\n",
       "        vertical-align: middle;\n",
       "    }\n",
       "\n",
       "    .dataframe tbody tr th {\n",
       "        vertical-align: top;\n",
       "    }\n",
       "\n",
       "    .dataframe thead th {\n",
       "        text-align: right;\n",
       "    }\n",
       "</style>\n",
       "<table border=\"1\" class=\"dataframe\">\n",
       "  <thead>\n",
       "    <tr style=\"text-align: right;\">\n",
       "      <th></th>\n",
       "      <th>DEPARTMENT</th>\n",
       "      <th>SEM AVG</th>\n",
       "      <th>% OF CLASS XII</th>\n",
       "    </tr>\n",
       "  </thead>\n",
       "  <tbody>\n",
       "    <tr>\n",
       "      <th>3</th>\n",
       "      <td>AEIE</td>\n",
       "      <td>8.950</td>\n",
       "      <td>84.57</td>\n",
       "    </tr>\n",
       "    <tr>\n",
       "      <th>63</th>\n",
       "      <td>BME</td>\n",
       "      <td>8.966</td>\n",
       "      <td>81.50</td>\n",
       "    </tr>\n",
       "    <tr>\n",
       "      <th>90</th>\n",
       "      <td>CE</td>\n",
       "      <td>9.432</td>\n",
       "      <td>92.00</td>\n",
       "    </tr>\n",
       "    <tr>\n",
       "      <th>238</th>\n",
       "      <td>CSE</td>\n",
       "      <td>9.540</td>\n",
       "      <td>82.72</td>\n",
       "    </tr>\n",
       "    <tr>\n",
       "      <th>295</th>\n",
       "      <td>ECE</td>\n",
       "      <td>9.502</td>\n",
       "      <td>87.28</td>\n",
       "    </tr>\n",
       "    <tr>\n",
       "      <th>454</th>\n",
       "      <td>EE</td>\n",
       "      <td>9.268</td>\n",
       "      <td>88.57</td>\n",
       "    </tr>\n",
       "    <tr>\n",
       "      <th>606</th>\n",
       "      <td>IT</td>\n",
       "      <td>8.726</td>\n",
       "      <td>89.17</td>\n",
       "    </tr>\n",
       "    <tr>\n",
       "      <th>645</th>\n",
       "      <td>ME</td>\n",
       "      <td>9.006</td>\n",
       "      <td>91.80</td>\n",
       "    </tr>\n",
       "  </tbody>\n",
       "</table>\n",
       "</div>"
      ],
      "text/plain": [
       "    DEPARTMENT  SEM AVG  % OF CLASS XII\n",
       "3         AEIE    8.950           84.57\n",
       "63         BME    8.966           81.50\n",
       "90          CE    9.432           92.00\n",
       "238        CSE    9.540           82.72\n",
       "295        ECE    9.502           87.28\n",
       "454         EE    9.268           88.57\n",
       "606         IT    8.726           89.17\n",
       "645         ME    9.006           91.80"
      ]
     },
     "execution_count": 23,
     "metadata": {},
     "output_type": "execute_result"
    }
   ],
   "source": [
    "toppers = data.groupby('DEPARTMENT')['SEM AVG'].transform(max) == data['SEM AVG']\n",
    "data[toppers][['DEPARTMENT', 'SEM AVG','% OF CLASS XII']]"
   ]
  },
  {
   "cell_type": "markdown",
   "id": "36b4cb67-19d6-465f-983d-108db2cb6b46",
   "metadata": {},
   "source": [
    "### How the Semester grades of the toppers have changed over time?"
   ]
  },
  {
   "cell_type": "code",
   "execution_count": 24,
   "id": "3b0871b0-804e-4fde-bb4c-97692718a798",
   "metadata": {},
   "outputs": [
    {
     "data": {
      "text/html": [
       "<div>\n",
       "<style scoped>\n",
       "    .dataframe tbody tr th:only-of-type {\n",
       "        vertical-align: middle;\n",
       "    }\n",
       "\n",
       "    .dataframe tbody tr th {\n",
       "        vertical-align: top;\n",
       "    }\n",
       "\n",
       "    .dataframe thead th {\n",
       "        text-align: right;\n",
       "    }\n",
       "</style>\n",
       "<table border=\"1\" class=\"dataframe\">\n",
       "  <thead>\n",
       "    <tr style=\"text-align: right;\">\n",
       "      <th></th>\n",
       "      <th>DEPARTMENT</th>\n",
       "      <th>SEM 1</th>\n",
       "      <th>SEM 2</th>\n",
       "      <th>SEM 3</th>\n",
       "      <th>SEM 4</th>\n",
       "      <th>SEM 5</th>\n",
       "    </tr>\n",
       "  </thead>\n",
       "  <tbody>\n",
       "    <tr>\n",
       "      <th>3</th>\n",
       "      <td>AEIE</td>\n",
       "      <td>8.59</td>\n",
       "      <td>8.45</td>\n",
       "      <td>9.04</td>\n",
       "      <td>9.59</td>\n",
       "      <td>9.08</td>\n",
       "    </tr>\n",
       "    <tr>\n",
       "      <th>63</th>\n",
       "      <td>BME</td>\n",
       "      <td>8.52</td>\n",
       "      <td>8.90</td>\n",
       "      <td>9.14</td>\n",
       "      <td>9.04</td>\n",
       "      <td>9.23</td>\n",
       "    </tr>\n",
       "    <tr>\n",
       "      <th>90</th>\n",
       "      <td>CE</td>\n",
       "      <td>8.78</td>\n",
       "      <td>9.38</td>\n",
       "      <td>9.62</td>\n",
       "      <td>9.62</td>\n",
       "      <td>9.76</td>\n",
       "    </tr>\n",
       "    <tr>\n",
       "      <th>238</th>\n",
       "      <td>CSE</td>\n",
       "      <td>9.11</td>\n",
       "      <td>9.86</td>\n",
       "      <td>9.34</td>\n",
       "      <td>9.54</td>\n",
       "      <td>9.85</td>\n",
       "    </tr>\n",
       "    <tr>\n",
       "      <th>295</th>\n",
       "      <td>ECE</td>\n",
       "      <td>9.22</td>\n",
       "      <td>9.72</td>\n",
       "      <td>9.72</td>\n",
       "      <td>9.23</td>\n",
       "      <td>9.62</td>\n",
       "    </tr>\n",
       "    <tr>\n",
       "      <th>454</th>\n",
       "      <td>EE</td>\n",
       "      <td>9.30</td>\n",
       "      <td>9.00</td>\n",
       "      <td>9.26</td>\n",
       "      <td>9.57</td>\n",
       "      <td>9.21</td>\n",
       "    </tr>\n",
       "    <tr>\n",
       "      <th>606</th>\n",
       "      <td>IT</td>\n",
       "      <td>7.48</td>\n",
       "      <td>8.83</td>\n",
       "      <td>8.86</td>\n",
       "      <td>9.27</td>\n",
       "      <td>9.19</td>\n",
       "    </tr>\n",
       "    <tr>\n",
       "      <th>645</th>\n",
       "      <td>ME</td>\n",
       "      <td>8.96</td>\n",
       "      <td>9.14</td>\n",
       "      <td>8.8</td>\n",
       "      <td>9.31</td>\n",
       "      <td>8.82</td>\n",
       "    </tr>\n",
       "  </tbody>\n",
       "</table>\n",
       "</div>"
      ],
      "text/plain": [
       "    DEPARTMENT  SEM 1  SEM 2 SEM 3  SEM 4  SEM 5\n",
       "3         AEIE   8.59   8.45  9.04   9.59   9.08\n",
       "63         BME   8.52   8.90  9.14   9.04   9.23\n",
       "90          CE   8.78   9.38  9.62   9.62   9.76\n",
       "238        CSE   9.11   9.86  9.34   9.54   9.85\n",
       "295        ECE   9.22   9.72  9.72   9.23   9.62\n",
       "454         EE   9.30   9.00  9.26   9.57   9.21\n",
       "606         IT   7.48   8.83  8.86   9.27   9.19\n",
       "645         ME   8.96   9.14   8.8   9.31   8.82"
      ]
     },
     "execution_count": 24,
     "metadata": {},
     "output_type": "execute_result"
    }
   ],
   "source": [
    "data[toppers][['DEPARTMENT','SEM 1', 'SEM 2', 'SEM 3', 'SEM 4', 'SEM 5']]"
   ]
  },
  {
   "cell_type": "code",
   "execution_count": 25,
   "id": "fa727d89-2086-4bac-95c0-6caafbe8800e",
   "metadata": {},
   "outputs": [
    {
     "data": {
      "text/plain": [
       "<matplotlib.legend.Legend at 0x7fdba175c5e0>"
      ]
     },
     "execution_count": 25,
     "metadata": {},
     "output_type": "execute_result"
    },
    {
     "data": {
      "image/png": "[encoded data removed]",
      "text/plain": [
       "<Figure size 1000x1000 with 1 Axes>"
      ]
     },
     "metadata": {},
     "output_type": "display_data"
    }
   ],
   "source": [
    "color=['#81c784','#0288d1','#0288d1','#9575cd','#f44336','#ffb74d','#6d4c41','#f50057']\n",
    "\n",
    "fig, ax = plt.subplots(figsize=(10,10))\n",
    "ax.set_ylabel('Semester-wise Grades',fontsize=14)\n",
    "ax.set_title('Changes in grades of the toppers over time')\n",
    "for i,c in zip(range(len(data[toppers][['DEPARTMENT','DEPARTMENT','SEM 1', 'SEM 2', 'SEM 3', 'SEM 4', 'SEM 5']])),color):\n",
    "    ax.plot(['SEM 1', 'SEM 2', 'SEM 3', 'SEM 4', 'SEM 5'], \n",
    "            data[toppers][['SEM 1', 'SEM 2', 'SEM 3', 'SEM 4', 'SEM 5']].iloc[i], \n",
    "            color=c, linewidth=3,label=data[toppers]['DEPARTMENT'].iloc[i])\n",
    "    \n",
    "ax.legend(loc='lower right') \n",
    "# data[toppers][]"
   ]
  },
  {
   "cell_type": "markdown",
   "id": "a799fd92-1a9b-46b2-9836-8d4e77725eee",
   "metadata": {},
   "source": [
    "Looks like someone from the department of IT has really improved a lot. Kudos to the individual for that!"
   ]
  },
  {
   "cell_type": "markdown",
   "id": "45a02441-a33d-4888-b54c-ff1caca65519",
   "metadata": {},
   "source": [
    "###  Total number of backlogs in each of the departments"
   ]
  },
  {
   "cell_type": "code",
   "execution_count": 26,
   "id": "92e049d8-c062-4663-b236-cd45b6c7c6c8",
   "metadata": {},
   "outputs": [
    {
     "data": {
      "text/html": [
       "<div>\n",
       "<style scoped>\n",
       "    .dataframe tbody tr th:only-of-type {\n",
       "        vertical-align: middle;\n",
       "    }\n",
       "\n",
       "    .dataframe tbody tr th {\n",
       "        vertical-align: top;\n",
       "    }\n",
       "\n",
       "    .dataframe thead th {\n",
       "        text-align: right;\n",
       "    }\n",
       "</style>\n",
       "<table border=\"1\" class=\"dataframe\">\n",
       "  <thead>\n",
       "    <tr style=\"text-align: right;\">\n",
       "      <th></th>\n",
       "      <th>IF YES, MENTION NUMBER OF BACKLOG(S)</th>\n",
       "    </tr>\n",
       "  </thead>\n",
       "  <tbody>\n",
       "    <tr>\n",
       "      <th>613</th>\n",
       "      <td>1</td>\n",
       "    </tr>\n",
       "    <tr>\n",
       "      <th>196</th>\n",
       "      <td>1</td>\n",
       "    </tr>\n",
       "    <tr>\n",
       "      <th>172</th>\n",
       "      <td>1</td>\n",
       "    </tr>\n",
       "    <tr>\n",
       "      <th>327</th>\n",
       "      <td>2</td>\n",
       "    </tr>\n",
       "    <tr>\n",
       "      <th>436</th>\n",
       "      <td>3</td>\n",
       "    </tr>\n",
       "    <tr>\n",
       "      <th>610</th>\n",
       "      <td>1</td>\n",
       "    </tr>\n",
       "    <tr>\n",
       "      <th>89</th>\n",
       "      <td>3</td>\n",
       "    </tr>\n",
       "    <tr>\n",
       "      <th>451</th>\n",
       "      <td>10</td>\n",
       "    </tr>\n",
       "    <tr>\n",
       "      <th>343</th>\n",
       "      <td>2</td>\n",
       "    </tr>\n",
       "    <tr>\n",
       "      <th>51</th>\n",
       "      <td>3</td>\n",
       "    </tr>\n",
       "  </tbody>\n",
       "</table>\n",
       "</div>"
      ],
      "text/plain": [
       "    IF YES, MENTION NUMBER OF BACKLOG(S)\n",
       "613                                    1\n",
       "196                                    1\n",
       "172                                    1\n",
       "327                                    2\n",
       "436                                    3\n",
       "610                                    1\n",
       "89                                     3\n",
       "451                                   10\n",
       "343                                    2\n",
       "51                                     3"
      ]
     },
     "execution_count": 26,
     "metadata": {},
     "output_type": "execute_result"
    }
   ],
   "source": [
    "data[data['IF YES, MENTION NUMBER OF BACKLOG(S)'].isna()==False]\\\n",
    "        [['IF YES, MENTION NUMBER OF BACKLOG(S)']].sample(10)"
   ]
  },
  {
   "cell_type": "markdown",
   "id": "d9d40690-6524-4c38-9f2a-e36af06ebdfb",
   "metadata": {},
   "source": [
    "The noise is real here. Some students have specified the subjects in which they got their backlogs instead of specifying numbers. Some specified 'N/A', '-', 'NO', 'NIL' and so on to denote that they did not get any backlogs. While the instruction for non-backlog candidates was to not specify anything and leave the field as it is. \n",
    "\n",
    "There are many ways to fix this. We will explore a one or two - "
   ]
  },
  {
   "cell_type": "code",
   "execution_count": 27,
   "id": "f9ff210c-3735-495f-87a8-acadbc1e3d3b",
   "metadata": {},
   "outputs": [
    {
     "data": {
      "text/html": [
       "<div>\n",
       "<style scoped>\n",
       "    .dataframe tbody tr th:only-of-type {\n",
       "        vertical-align: middle;\n",
       "    }\n",
       "\n",
       "    .dataframe tbody tr th {\n",
       "        vertical-align: top;\n",
       "    }\n",
       "\n",
       "    .dataframe thead th {\n",
       "        text-align: right;\n",
       "    }\n",
       "</style>\n",
       "<table border=\"1\" class=\"dataframe\">\n",
       "  <thead>\n",
       "    <tr style=\"text-align: right;\">\n",
       "      <th></th>\n",
       "      <th>IF YES, MENTION NUMBER OF BACKLOG(S)</th>\n",
       "    </tr>\n",
       "  </thead>\n",
       "  <tbody>\n",
       "    <tr>\n",
       "      <th>76</th>\n",
       "      <td>M302</td>\n",
       "    </tr>\n",
       "    <tr>\n",
       "      <th>77</th>\n",
       "      <td>M302</td>\n",
       "    </tr>\n",
       "    <tr>\n",
       "      <th>264</th>\n",
       "      <td>NIL</td>\n",
       "    </tr>\n",
       "    <tr>\n",
       "      <th>425</th>\n",
       "      <td>NO</td>\n",
       "    </tr>\n",
       "    <tr>\n",
       "      <th>460</th>\n",
       "      <td>NO</td>\n",
       "    </tr>\n",
       "    <tr>\n",
       "      <th>562</th>\n",
       "      <td>ONE</td>\n",
       "    </tr>\n",
       "    <tr>\n",
       "      <th>583</th>\n",
       "      <td>NO</td>\n",
       "    </tr>\n",
       "  </tbody>\n",
       "</table>\n",
       "</div>"
      ],
      "text/plain": [
       "    IF YES, MENTION NUMBER OF BACKLOG(S)\n",
       "76                                  M302\n",
       "77                                  M302\n",
       "264                                  NIL\n",
       "425                                   NO\n",
       "460                                   NO\n",
       "562                                  ONE\n",
       "583                                   NO"
      ]
     },
     "execution_count": 27,
     "metadata": {},
     "output_type": "execute_result"
    }
   ],
   "source": [
    "data[data['IF YES, MENTION NUMBER OF BACKLOG(S)'].str.isalnum()==True]\\\n",
    "    [['IF YES, MENTION NUMBER OF BACKLOG(S)']]"
   ]
  },
  {
   "cell_type": "code",
   "execution_count": 28,
   "id": "4c547110-a9ad-4daa-8c04-326247101f28",
   "metadata": {},
   "outputs": [
    {
     "data": {
      "text/html": [
       "<div>\n",
       "<style scoped>\n",
       "    .dataframe tbody tr th:only-of-type {\n",
       "        vertical-align: middle;\n",
       "    }\n",
       "\n",
       "    .dataframe tbody tr th {\n",
       "        vertical-align: top;\n",
       "    }\n",
       "\n",
       "    .dataframe thead th {\n",
       "        text-align: right;\n",
       "    }\n",
       "</style>\n",
       "<table border=\"1\" class=\"dataframe\">\n",
       "  <thead>\n",
       "    <tr style=\"text-align: right;\">\n",
       "      <th></th>\n",
       "      <th>IF YES, MENTION NUMBER OF BACKLOG(S)</th>\n",
       "    </tr>\n",
       "  </thead>\n",
       "  <tbody>\n",
       "    <tr>\n",
       "      <th>33</th>\n",
       "      <td>2ND SEM- MATHEMATICS II , BASIC COMPUTATION AN...</td>\n",
       "    </tr>\n",
       "    <tr>\n",
       "      <th>74</th>\n",
       "      <td>1.MATHEMATICS-III</td>\n",
       "    </tr>\n",
       "    <tr>\n",
       "      <th>211</th>\n",
       "      <td>PHYSICS-II,MICROPROCESSOR,DISCRETE MATHEMATICS</td>\n",
       "    </tr>\n",
       "    <tr>\n",
       "      <th>212</th>\n",
       "      <td>DISCREATE MATH</td>\n",
       "    </tr>\n",
       "    <tr>\n",
       "      <th>289</th>\n",
       "      <td>-</td>\n",
       "    </tr>\n",
       "    <tr>\n",
       "      <th>324</th>\n",
       "      <td>-</td>\n",
       "    </tr>\n",
       "    <tr>\n",
       "      <th>404</th>\n",
       "      <td>-</td>\n",
       "    </tr>\n",
       "    <tr>\n",
       "      <th>554</th>\n",
       "      <td>N.A</td>\n",
       "    </tr>\n",
       "    <tr>\n",
       "      <th>607</th>\n",
       "      <td>-</td>\n",
       "    </tr>\n",
       "  </tbody>\n",
       "</table>\n",
       "</div>"
      ],
      "text/plain": [
       "                  IF YES, MENTION NUMBER OF BACKLOG(S)\n",
       "33   2ND SEM- MATHEMATICS II , BASIC COMPUTATION AN...\n",
       "74                                   1.MATHEMATICS-III\n",
       "211     PHYSICS-II,MICROPROCESSOR,DISCRETE MATHEMATICS\n",
       "212                                     DISCREATE MATH\n",
       "289                                                  -\n",
       "324                                                  -\n",
       "404                                                  -\n",
       "554                                                N.A\n",
       "607                                                  -"
      ]
     },
     "execution_count": 28,
     "metadata": {},
     "output_type": "execute_result"
    }
   ],
   "source": [
    "data[data['IF YES, MENTION NUMBER OF BACKLOG(S)'].str.match('^[a-zA-Z0-9]+$')==False]\\\n",
    "        [['IF YES, MENTION NUMBER OF BACKLOG(S)']]"
   ]
  },
  {
   "cell_type": "code",
   "execution_count": 29,
   "id": "825d4282-fda5-463c-b140-05c51038f54b",
   "metadata": {},
   "outputs": [
    {
     "data": {
      "text/plain": [
       "'2ND SEM- MATHEMATICS II , BASIC COMPUTATION AND PRINCIPLES OF COMPUTER PROGRAMMING , ENGINEERING THERMODYNAMICS & FLUID MECHANICS,BASIC ELECTRICAL &ELECTRONICS ENGINEERING-II 3RD SEM -MATHEMATICS III'"
      ]
     },
     "execution_count": 29,
     "metadata": {},
     "output_type": "execute_result"
    }
   ],
   "source": [
    "data.iloc[33]['IF YES, MENTION NUMBER OF BACKLOG(S)']"
   ]
  },
  {
   "cell_type": "markdown",
   "id": "b3e34da1-5cf9-4872-961b-50b6754d7ce9",
   "metadata": {},
   "source": [
    "A bit of manual engineering needed here - "
   ]
  },
  {
   "cell_type": "code",
   "execution_count": 30,
   "id": "1291a784-1acc-4a05-96f9-8b8b97593691",
   "metadata": {},
   "outputs": [],
   "source": [
    "data.loc[76, 'IF YES, MENTION NUMBER OF BACKLOG(S)'] = 1\n",
    "data.loc[77, 'IF YES, MENTION NUMBER OF BACKLOG(S)'] = 1\n",
    "data.loc[562, 'IF YES, MENTION NUMBER OF BACKLOG(S)'] = 1\n",
    "data.loc[33, 'IF YES, MENTION NUMBER OF BACKLOG(S)'] = 5\n",
    "data.loc[74, 'IF YES, MENTION NUMBER OF BACKLOG(S)'] = 1\n",
    "data.loc[211, 'IF YES, MENTION NUMBER OF BACKLOG(S)'] = 3\n",
    "data.loc[212, 'IF YES, MENTION NUMBER OF BACKLOG(S)'] = 1"
   ]
  },
  {
   "cell_type": "code",
   "execution_count": 31,
   "id": "11b81a58-7443-48bf-8a07-7a17a00738f8",
   "metadata": {},
   "outputs": [
    {
     "data": {
      "text/html": [
       "<div>\n",
       "<style scoped>\n",
       "    .dataframe tbody tr th:only-of-type {\n",
       "        vertical-align: middle;\n",
       "    }\n",
       "\n",
       "    .dataframe tbody tr th {\n",
       "        vertical-align: top;\n",
       "    }\n",
       "\n",
       "    .dataframe thead th {\n",
       "        text-align: right;\n",
       "    }\n",
       "</style>\n",
       "<table border=\"1\" class=\"dataframe\">\n",
       "  <thead>\n",
       "    <tr style=\"text-align: right;\">\n",
       "      <th></th>\n",
       "      <th>IF YES, MENTION NUMBER OF BACKLOG(S)</th>\n",
       "    </tr>\n",
       "  </thead>\n",
       "  <tbody>\n",
       "    <tr>\n",
       "      <th>610</th>\n",
       "      <td>1</td>\n",
       "    </tr>\n",
       "    <tr>\n",
       "      <th>538</th>\n",
       "      <td>1</td>\n",
       "    </tr>\n",
       "    <tr>\n",
       "      <th>506</th>\n",
       "      <td>2</td>\n",
       "    </tr>\n",
       "    <tr>\n",
       "      <th>282</th>\n",
       "      <td>1</td>\n",
       "    </tr>\n",
       "    <tr>\n",
       "      <th>670</th>\n",
       "      <td>1</td>\n",
       "    </tr>\n",
       "    <tr>\n",
       "      <th>328</th>\n",
       "      <td>5</td>\n",
       "    </tr>\n",
       "    <tr>\n",
       "      <th>278</th>\n",
       "      <td>5</td>\n",
       "    </tr>\n",
       "    <tr>\n",
       "      <th>33</th>\n",
       "      <td>5</td>\n",
       "    </tr>\n",
       "    <tr>\n",
       "      <th>405</th>\n",
       "      <td>1</td>\n",
       "    </tr>\n",
       "    <tr>\n",
       "      <th>618</th>\n",
       "      <td>1</td>\n",
       "    </tr>\n",
       "  </tbody>\n",
       "</table>\n",
       "</div>"
      ],
      "text/plain": [
       "    IF YES, MENTION NUMBER OF BACKLOG(S)\n",
       "610                                    1\n",
       "538                                    1\n",
       "506                                    2\n",
       "282                                    1\n",
       "670                                    1\n",
       "328                                    5\n",
       "278                                    5\n",
       "33                                     5\n",
       "405                                    1\n",
       "618                                    1"
      ]
     },
     "execution_count": 31,
     "metadata": {},
     "output_type": "execute_result"
    }
   ],
   "source": [
    "data[data['IF YES, MENTION NUMBER OF BACKLOG(S)'].isna()==False]\\\n",
    "        [['IF YES, MENTION NUMBER OF BACKLOG(S)']].sample(10)"
   ]
  },
  {
   "cell_type": "code",
   "execution_count": 32,
   "id": "9703be39-9d74-4b38-b975-41bddd978807",
   "metadata": {},
   "outputs": [],
   "source": [
    "false_backlog = data.index[data['IF YES, MENTION NUMBER OF BACKLOG(S)'].str.match('^[\\d]')==False].tolist()\n",
    "noisy_backlogs = data.index[data['IF YES, MENTION NUMBER OF BACKLOG(S)'].isna()==False].tolist()\n",
    "noisy_backlogs = set(noisy_backlogs) - set(false_backlog)"
   ]
  },
  {
   "cell_type": "code",
   "execution_count": 33,
   "id": "c27d5f40-83c3-406c-8469-400447e7c206",
   "metadata": {},
   "outputs": [
    {
     "data": {
      "text/html": [
       "<div>\n",
       "<style scoped>\n",
       "    .dataframe tbody tr th:only-of-type {\n",
       "        vertical-align: middle;\n",
       "    }\n",
       "\n",
       "    .dataframe tbody tr th {\n",
       "        vertical-align: top;\n",
       "    }\n",
       "\n",
       "    .dataframe thead th {\n",
       "        text-align: right;\n",
       "    }\n",
       "</style>\n",
       "<table border=\"1\" class=\"dataframe\">\n",
       "  <thead>\n",
       "    <tr style=\"text-align: right;\">\n",
       "      <th></th>\n",
       "      <th>DEPARTMENT</th>\n",
       "      <th>IF YES, MENTION NUMBER OF BACKLOG(S)</th>\n",
       "    </tr>\n",
       "  </thead>\n",
       "  <tbody>\n",
       "    <tr>\n",
       "      <th>359</th>\n",
       "      <td>ECE</td>\n",
       "      <td>7</td>\n",
       "    </tr>\n",
       "    <tr>\n",
       "      <th>113</th>\n",
       "      <td>CE</td>\n",
       "      <td>1</td>\n",
       "    </tr>\n",
       "    <tr>\n",
       "      <th>33</th>\n",
       "      <td>AEIE</td>\n",
       "      <td>5</td>\n",
       "    </tr>\n",
       "    <tr>\n",
       "      <th>221</th>\n",
       "      <td>CSE</td>\n",
       "      <td>1</td>\n",
       "    </tr>\n",
       "    <tr>\n",
       "      <th>334</th>\n",
       "      <td>ECE</td>\n",
       "      <td>2</td>\n",
       "    </tr>\n",
       "    <tr>\n",
       "      <th>464</th>\n",
       "      <td>EE</td>\n",
       "      <td>3</td>\n",
       "    </tr>\n",
       "    <tr>\n",
       "      <th>621</th>\n",
       "      <td>ME</td>\n",
       "      <td>10</td>\n",
       "    </tr>\n",
       "    <tr>\n",
       "      <th>406</th>\n",
       "      <td>ECE</td>\n",
       "      <td>4</td>\n",
       "    </tr>\n",
       "    <tr>\n",
       "      <th>92</th>\n",
       "      <td>CE</td>\n",
       "      <td>1</td>\n",
       "    </tr>\n",
       "    <tr>\n",
       "      <th>451</th>\n",
       "      <td>EE</td>\n",
       "      <td>10</td>\n",
       "    </tr>\n",
       "  </tbody>\n",
       "</table>\n",
       "</div>"
      ],
      "text/plain": [
       "    DEPARTMENT IF YES, MENTION NUMBER OF BACKLOG(S)\n",
       "359        ECE                                    7\n",
       "113         CE                                    1\n",
       "33        AEIE                                    5\n",
       "221        CSE                                    1\n",
       "334        ECE                                    2\n",
       "464         EE                                    3\n",
       "621         ME                                   10\n",
       "406        ECE                                    4\n",
       "92          CE                                    1\n",
       "451         EE                                   10"
      ]
     },
     "execution_count": 33,
     "metadata": {},
     "output_type": "execute_result"
    }
   ],
   "source": [
    "data.loc[noisy_backlogs][['DEPARTMENT','IF YES, MENTION NUMBER OF BACKLOG(S)']].sample(10)"
   ]
  },
  {
   "cell_type": "code",
   "execution_count": 34,
   "id": "eaa1ebeb-07fe-4efe-9a27-7b42d33035f9",
   "metadata": {},
   "outputs": [
    {
     "data": {
      "text/plain": [
       "[('ME', 29),\n",
       " ('CSE', 27),\n",
       " ('EE', 25),\n",
       " ('ECE', 24),\n",
       " ('CE', 16),\n",
       " ('IT', 13),\n",
       " ('AEIE', 8),\n",
       " ('BME', 5)]"
      ]
     },
     "execution_count": 34,
     "metadata": {},
     "output_type": "execute_result"
    }
   ],
   "source": [
    "noisy_backlogs_df = data.loc[noisy_backlogs]\\\n",
    "                [['DEPARTMENT','IF YES, MENTION NUMBER OF BACKLOG(S)']]\n",
    "label_counts = Counter(noisy_backlogs_df['DEPARTMENT'].values)\n",
    "label_counts.most_common()"
   ]
  },
  {
   "cell_type": "code",
   "execution_count": 35,
   "id": "10cfae16-da93-42e3-995a-99903fc2323a",
   "metadata": {},
   "outputs": [
    {
     "data": {
      "text/html": [
       "<div>\n",
       "<style scoped>\n",
       "    .dataframe tbody tr th:only-of-type {\n",
       "        vertical-align: middle;\n",
       "    }\n",
       "\n",
       "    .dataframe tbody tr th {\n",
       "        vertical-align: top;\n",
       "    }\n",
       "\n",
       "    .dataframe thead th {\n",
       "        text-align: right;\n",
       "    }\n",
       "</style>\n",
       "<table border=\"1\" class=\"dataframe\">\n",
       "  <thead>\n",
       "    <tr style=\"text-align: right;\">\n",
       "      <th></th>\n",
       "      <th>DEPARTMENT</th>\n",
       "      <th>Backlog Count</th>\n",
       "    </tr>\n",
       "  </thead>\n",
       "  <tbody>\n",
       "    <tr>\n",
       "      <th>0</th>\n",
       "      <td>ME</td>\n",
       "      <td>29</td>\n",
       "    </tr>\n",
       "    <tr>\n",
       "      <th>1</th>\n",
       "      <td>CSE</td>\n",
       "      <td>27</td>\n",
       "    </tr>\n",
       "    <tr>\n",
       "      <th>2</th>\n",
       "      <td>EE</td>\n",
       "      <td>25</td>\n",
       "    </tr>\n",
       "    <tr>\n",
       "      <th>3</th>\n",
       "      <td>ECE</td>\n",
       "      <td>24</td>\n",
       "    </tr>\n",
       "    <tr>\n",
       "      <th>4</th>\n",
       "      <td>CE</td>\n",
       "      <td>16</td>\n",
       "    </tr>\n",
       "    <tr>\n",
       "      <th>5</th>\n",
       "      <td>IT</td>\n",
       "      <td>13</td>\n",
       "    </tr>\n",
       "    <tr>\n",
       "      <th>6</th>\n",
       "      <td>AEIE</td>\n",
       "      <td>8</td>\n",
       "    </tr>\n",
       "    <tr>\n",
       "      <th>7</th>\n",
       "      <td>BME</td>\n",
       "      <td>5</td>\n",
       "    </tr>\n",
       "  </tbody>\n",
       "</table>\n",
       "</div>"
      ],
      "text/plain": [
       "  DEPARTMENT  Backlog Count\n",
       "0         ME             29\n",
       "1        CSE             27\n",
       "2         EE             25\n",
       "3        ECE             24\n",
       "4         CE             16\n",
       "5         IT             13\n",
       "6       AEIE              8\n",
       "7        BME              5"
      ]
     },
     "execution_count": 35,
     "metadata": {},
     "output_type": "execute_result"
    }
   ],
   "source": [
    "plot_df = pd.DataFrame(label_counts.most_common(),columns=['DEPARTMENT','Backlog Count'])\n",
    "plot_df"
   ]
  },
  {
   "cell_type": "code",
   "execution_count": 36,
   "id": "2fbb2f49-f475-4f81-a404-1474336ab721",
   "metadata": {},
   "outputs": [
    {
     "data": {
      "image/png": "[encoded data removed]",
      "text/plain": [
       "<Figure size 800x600 with 1 Axes>"
      ]
     },
     "metadata": {},
     "output_type": "display_data"
    }
   ],
   "source": [
    "subplot = plot_df.groupby('DEPARTMENT')['Backlog Count'].sum().plot(kind='barh',figsize=(8,6))\n",
    "subplot.set_title('Number of Backlogs per Department')\n",
    "for i in subplot.patches:\n",
    "    # get_width pulls left or right; get_y pushes up or down\n",
    "    subplot.text(i.get_width()+.20, i.get_y()+.1, \\\n",
    "            str(i.get_width()), fontsize=13)"
   ]
  },
  {
   "cell_type": "markdown",
   "id": "b565310b-20e0-4388-b528-5f6ab021fea6",
   "metadata": {},
   "source": [
    "So, the department of BME is good enough. But there is another factor to be considered here - **Number of students perdepartment**.\n"
   ]
  },
  {
   "cell_type": "code",
   "execution_count": 37,
   "id": "768b247a-7a44-4c0b-9136-6d5d1a527026",
   "metadata": {},
   "outputs": [
    {
     "data": {
      "text/html": [
       "<div>\n",
       "<style scoped>\n",
       "    .dataframe tbody tr th:only-of-type {\n",
       "        vertical-align: middle;\n",
       "    }\n",
       "\n",
       "    .dataframe tbody tr th {\n",
       "        vertical-align: top;\n",
       "    }\n",
       "\n",
       "    .dataframe thead th {\n",
       "        text-align: right;\n",
       "    }\n",
       "</style>\n",
       "<table border=\"1\" class=\"dataframe\">\n",
       "  <thead>\n",
       "    <tr style=\"text-align: right;\">\n",
       "      <th></th>\n",
       "      <th>DEPARTMENT</th>\n",
       "      <th>Student Count</th>\n",
       "      <th>Backlog Count</th>\n",
       "    </tr>\n",
       "  </thead>\n",
       "  <tbody>\n",
       "    <tr>\n",
       "      <th>0</th>\n",
       "      <td>AEIE</td>\n",
       "      <td>54</td>\n",
       "      <td>8</td>\n",
       "    </tr>\n",
       "    <tr>\n",
       "      <th>1</th>\n",
       "      <td>BME</td>\n",
       "      <td>24</td>\n",
       "      <td>5</td>\n",
       "    </tr>\n",
       "    <tr>\n",
       "      <th>2</th>\n",
       "      <td>CE</td>\n",
       "      <td>67</td>\n",
       "      <td>16</td>\n",
       "    </tr>\n",
       "    <tr>\n",
       "      <th>3</th>\n",
       "      <td>CSE</td>\n",
       "      <td>135</td>\n",
       "      <td>27</td>\n",
       "    </tr>\n",
       "    <tr>\n",
       "      <th>4</th>\n",
       "      <td>ECE</td>\n",
       "      <td>125</td>\n",
       "      <td>24</td>\n",
       "    </tr>\n",
       "    <tr>\n",
       "      <th>5</th>\n",
       "      <td>EE</td>\n",
       "      <td>123</td>\n",
       "      <td>25</td>\n",
       "    </tr>\n",
       "    <tr>\n",
       "      <th>6</th>\n",
       "      <td>IT</td>\n",
       "      <td>79</td>\n",
       "      <td>13</td>\n",
       "    </tr>\n",
       "    <tr>\n",
       "      <th>7</th>\n",
       "      <td>ME</td>\n",
       "      <td>60</td>\n",
       "      <td>29</td>\n",
       "    </tr>\n",
       "  </tbody>\n",
       "</table>\n",
       "</div>"
      ],
      "text/plain": [
       "  DEPARTMENT  Student Count  Backlog Count\n",
       "0       AEIE             54              8\n",
       "1        BME             24              5\n",
       "2         CE             67             16\n",
       "3        CSE            135             27\n",
       "4        ECE            125             24\n",
       "5         EE            123             25\n",
       "6         IT             79             13\n",
       "7         ME             60             29"
      ]
     },
     "execution_count": 37,
     "metadata": {},
     "output_type": "execute_result"
    }
   ],
   "source": [
    "no_stu_dept_wise = data.groupby('DEPARTMENT')['SL.NO.'].count().reset_index(name='Student Count')\n",
    "no_stu_dept_wise.merge(plot_df,on='DEPARTMENT')"
   ]
  },
  {
   "cell_type": "code",
   "execution_count": 38,
   "id": "715733c7-9824-4d4e-9a41-1d10be21f3d8",
   "metadata": {},
   "outputs": [
    {
     "data": {
      "image/png": "[encoded data removed]",
      "text/plain": [
       "<Figure size 800x600 with 1 Axes>"
      ]
     },
     "metadata": {},
     "output_type": "display_data"
    }
   ],
   "source": [
    "stu_backlog_count= no_stu_dept_wise.merge(plot_df,on='DEPARTMENT')\n",
    "subplot = stu_backlog_count.groupby('DEPARTMENT').sum().plot(kind='barh',figsize=(8,6))\n",
    "subplot.set_title('Number of backlogs w.r.t number of students per department ')\n",
    "for i in subplot.patches:\n",
    "    # get_width pulls left or right; get_y pushes up or down\n",
    "    subplot.text(i.get_width()+.5, i.get_y()+.1, \\\n",
    "            str(i.get_width()), fontsize=13)"
   ]
  },
  {
   "cell_type": "markdown",
   "id": "7eacd5d0-91e2-455b-9559-a741207a6f3d",
   "metadata": {},
   "source": [
    "## 🔗 Modelling"
   ]
  },
  {
   "cell_type": "code",
   "execution_count": 39,
   "id": "d2e0d04d-d448-4c53-b3a2-33e60788ce1e",
   "metadata": {},
   "outputs": [
    {
     "data": {
      "text/plain": [
       "SL.NO.                                        0\n",
       "DEPARTMENT                                    0\n",
       "GENDER (M/F)                                  0\n",
       "PERMANENT LOCATION (STATE)                    0\n",
       "AGE(YEARS)                                    0\n",
       "MEDIUM OF INSTRUCTION-CLASS X                 2\n",
       "% OF CLASS X                                  5\n",
       "MEDIUM OF INSTRUCTION - CLASS XII            50\n",
       "% OF CLASS XII                               51\n",
       "DIPLOMA STREAM                              569\n",
       "MEDIUM OF INSTRUCTION- DIPLOMA              575\n",
       "DIPLOMA AGGREGATE MARKS %                   574\n",
       "MEDIUM OF INSTRUCTION                         3\n",
       "SEM 1                                        88\n",
       "SEM 2                                        89\n",
       "SEM 3                                         8\n",
       "SEM 4                                        13\n",
       "SEM 5                                        13\n",
       "SEM AVG                                      24\n",
       "ANY BACKLOG(S) IN CURRENT COURSE(YES/NO)    116\n",
       "IF YES, MENTION NUMBER OF BACKLOG(S)        511\n",
       "dtype: int64"
      ]
     },
     "execution_count": 39,
     "metadata": {},
     "output_type": "execute_result"
    }
   ],
   "source": [
    "data.isnull().sum()"
   ]
  },
  {
   "cell_type": "markdown",
   "id": "fad2db7a-3cda-4b3c-8dbe-95db7e48fdc4",
   "metadata": {},
   "source": [
    "#### ❑ Replace the missing values for numerical columns with Mean"
   ]
  },
  {
   "cell_type": "code",
   "execution_count": 40,
   "id": "50aa1ff4-39c4-4f3f-b8af-f368d767b0ec",
   "metadata": {},
   "outputs": [],
   "source": [
    "data.drop([228], inplace = True)\n",
    "#Manulal Engineering 228 was a row containing non-numeric value in 'SEM 3' column"
   ]
  },
  {
   "cell_type": "code",
   "execution_count": 41,
   "id": "c137341f-7233-4a37-bd76-e64237fe8ace",
   "metadata": {},
   "outputs": [],
   "source": [
    "data['SEM 1'] = data['SEM 1'].fillna(data['SEM 1'].mean())\n",
    "data['SEM 2'] = data['SEM 2'].fillna(data['SEM 2'].mean())\n",
    "data['SEM 3'] = data['SEM 3'].fillna(data['SEM 3'].mean())\n",
    "data['SEM 4'] = data['SEM 4'].fillna(data['SEM 4'].mean())\n",
    "data['SEM 5'] = data['SEM 5'].fillna(data['SEM 5'].mean())"
   ]
  },
  {
   "cell_type": "code",
   "execution_count": 42,
   "id": "0198e77f-79dd-4f79-9f49-c920f1a60f5c",
   "metadata": {},
   "outputs": [
    {
     "data": {
      "text/html": [
       "<div>\n",
       "<style scoped>\n",
       "    .dataframe tbody tr th:only-of-type {\n",
       "        vertical-align: middle;\n",
       "    }\n",
       "\n",
       "    .dataframe tbody tr th {\n",
       "        vertical-align: top;\n",
       "    }\n",
       "\n",
       "    .dataframe thead th {\n",
       "        text-align: right;\n",
       "    }\n",
       "</style>\n",
       "<table border=\"1\" class=\"dataframe\">\n",
       "  <thead>\n",
       "    <tr style=\"text-align: right;\">\n",
       "      <th></th>\n",
       "      <th>SL.NO.</th>\n",
       "      <th>% OF CLASS XII</th>\n",
       "      <th>SEM 1</th>\n",
       "      <th>SEM 2</th>\n",
       "      <th>SEM 3</th>\n",
       "      <th>SEM 4</th>\n",
       "      <th>SEM 5</th>\n",
       "      <th>SEM AVG</th>\n",
       "    </tr>\n",
       "  </thead>\n",
       "  <tbody>\n",
       "    <tr>\n",
       "      <th>0</th>\n",
       "      <td>1</td>\n",
       "      <td>84.66</td>\n",
       "      <td>8.22</td>\n",
       "      <td>8.45</td>\n",
       "      <td>8.59</td>\n",
       "      <td>9.14</td>\n",
       "      <td>8.40</td>\n",
       "      <td>8.560</td>\n",
       "    </tr>\n",
       "    <tr>\n",
       "      <th>1</th>\n",
       "      <td>2</td>\n",
       "      <td>60.40</td>\n",
       "      <td>6.52</td>\n",
       "      <td>7.38</td>\n",
       "      <td>6.93</td>\n",
       "      <td>7.97</td>\n",
       "      <td>8.04</td>\n",
       "      <td>7.368</td>\n",
       "    </tr>\n",
       "    <tr>\n",
       "      <th>2</th>\n",
       "      <td>3</td>\n",
       "      <td>84.00</td>\n",
       "      <td>8.22</td>\n",
       "      <td>7.93</td>\n",
       "      <td>7.89</td>\n",
       "      <td>7.83</td>\n",
       "      <td>8.44</td>\n",
       "      <td>8.062</td>\n",
       "    </tr>\n",
       "    <tr>\n",
       "      <th>3</th>\n",
       "      <td>4</td>\n",
       "      <td>84.57</td>\n",
       "      <td>8.59</td>\n",
       "      <td>8.45</td>\n",
       "      <td>9.04</td>\n",
       "      <td>9.59</td>\n",
       "      <td>9.08</td>\n",
       "      <td>8.950</td>\n",
       "    </tr>\n",
       "    <tr>\n",
       "      <th>4</th>\n",
       "      <td>5</td>\n",
       "      <td>85.80</td>\n",
       "      <td>7.70</td>\n",
       "      <td>8.28</td>\n",
       "      <td>7.85</td>\n",
       "      <td>7.79</td>\n",
       "      <td>7.80</td>\n",
       "      <td>7.884</td>\n",
       "    </tr>\n",
       "  </tbody>\n",
       "</table>\n",
       "</div>"
      ],
      "text/plain": [
       "   SL.NO.  % OF CLASS XII  SEM 1  SEM 2  SEM 3  SEM 4  SEM 5  SEM AVG\n",
       "0       1           84.66   8.22   8.45   8.59   9.14   8.40    8.560\n",
       "1       2           60.40   6.52   7.38   6.93   7.97   8.04    7.368\n",
       "2       3           84.00   8.22   7.93   7.89   7.83   8.44    8.062\n",
       "3       4           84.57   8.59   8.45   9.04   9.59   9.08    8.950\n",
       "4       5           85.80   7.70   8.28   7.85   7.79   7.80    7.884"
      ]
     },
     "execution_count": 42,
     "metadata": {},
     "output_type": "execute_result"
    }
   ],
   "source": [
    "result = data.select_dtypes(include='number')\n",
    "result.head()"
   ]
  },
  {
   "cell_type": "code",
   "execution_count": 43,
   "id": "dfbe307c-1ab4-40f4-8920-ec58278ff16d",
   "metadata": {},
   "outputs": [],
   "source": [
    "result.to_csv('result.csv',index=False)"
   ]
  },
  {
   "cell_type": "code",
   "execution_count": 44,
   "id": "4d1cca7d-a5d6-4152-b4ae-30a5f4a2eb4e",
   "metadata": {},
   "outputs": [
    {
     "data": {
      "text/plain": [
       "666"
      ]
     },
     "execution_count": 44,
     "metadata": {},
     "output_type": "execute_result"
    }
   ],
   "source": [
    "len(result.index)"
   ]
  },
  {
   "cell_type": "code",
   "execution_count": null,
   "id": "635ed3bb-94b8-4be1-82db-3ec4484ca01c",
   "metadata": {},
   "outputs": [],
   "source": []
  },
  {
   "cell_type": "code",
   "execution_count": 45,
   "id": "3d8000df-0207-4b9b-840e-365b05364f91",
   "metadata": {},
   "outputs": [],
   "source": [
    "X=np.asanyarray(result[[\"SEM 1\",\"SEM 2\",\"SEM 3\",\"SEM 4\"]].copy())\n",
    "y=np.asanyarray(result['SEM 5'])"
   ]
  },
  {
   "cell_type": "code",
   "execution_count": 46,
   "id": "fdf2b5b3-8b52-43f9-8193-328e87f18d86",
   "metadata": {},
   "outputs": [
    {
     "data": {
      "text/plain": [
       "((666, 4), (666,))"
      ]
     },
     "execution_count": 46,
     "metadata": {},
     "output_type": "execute_result"
    }
   ],
   "source": [
    "X.shape,y.shape"
   ]
  },
  {
   "cell_type": "code",
   "execution_count": 47,
   "id": "47923040-3ab2-4f98-a9d5-922c2033b6db",
   "metadata": {},
   "outputs": [
    {
     "data": {
      "text/plain": [
       "array([[8.22, 8.45, 8.59, 9.14],\n",
       "       [6.52, 7.38, 6.93, 7.97],\n",
       "       [8.22, 7.93, 7.89, 7.83],\n",
       "       [8.59, 8.45, 9.04, 9.59],\n",
       "       [7.7 , 8.28, 7.85, 7.79]])"
      ]
     },
     "execution_count": 47,
     "metadata": {},
     "output_type": "execute_result"
    }
   ],
   "source": [
    "X[:5]"
   ]
  },
  {
   "cell_type": "code",
   "execution_count": 48,
   "id": "4cc7afa3-7832-4f24-af12-a24cdcc6f034",
   "metadata": {},
   "outputs": [
    {
     "data": {
      "text/plain": [
       "array([8.4 , 8.04, 8.44, 9.08, 7.8 ])"
      ]
     },
     "execution_count": 48,
     "metadata": {},
     "output_type": "execute_result"
    }
   ],
   "source": [
    "y[:5]"
   ]
  },
  {
   "cell_type": "code",
   "execution_count": 49,
   "id": "774e1244-8b8d-4ead-b1fc-16908e7b2efa",
   "metadata": {},
   "outputs": [],
   "source": [
    "# splitting the dataset into training and testing\n",
    "from sklearn.model_selection import train_test_split\n",
    "X_train, X_test, y_train, y_test = train_test_split(X, y, test_size=0.2, random_state=10)"
   ]
  },
  {
   "cell_type": "code",
   "execution_count": 50,
   "id": "a9877d27-20b9-4b66-b99b-6f01ab2cb6c4",
   "metadata": {},
   "outputs": [
    {
     "data": {
      "text/plain": [
       "array([[7.38468858, 7.54282496, 6.46      , 5.92      ],\n",
       "       [7.38468858, 7.54282496, 6.2       , 5.8       ],\n",
       "       [6.19      , 6.03      , 6.3       , 7.51229709],\n",
       "       ...,\n",
       "       [6.37      , 6.97      , 6.9       , 7.69      ],\n",
       "       [7.3       , 7.24      , 7.41      , 6.77      ],\n",
       "       [7.19      , 7.72      , 7.31      , 7.54      ]])"
      ]
     },
     "execution_count": 50,
     "metadata": {},
     "output_type": "execute_result"
    }
   ],
   "source": [
    "X_train"
   ]
  },
  {
   "cell_type": "code",
   "execution_count": 51,
   "id": "0c339425-2642-48db-9597-0c7109cf4c54",
   "metadata": {},
   "outputs": [
    {
     "data": {
      "text/plain": [
       "array([5.64, 6.62, 6.29, 7.5 , 6.88])"
      ]
     },
     "execution_count": 51,
     "metadata": {},
     "output_type": "execute_result"
    }
   ],
   "source": [
    "y_train[:5]"
   ]
  },
  {
   "cell_type": "markdown",
   "id": "2537b173-1565-4a4c-a44e-e53815388189",
   "metadata": {},
   "source": [
    "### ❏ Linear Regression Model"
   ]
  },
  {
   "cell_type": "code",
   "execution_count": 52,
   "id": "f3f8bd0e-4ebd-45df-a6dc-14a9578a6d70",
   "metadata": {},
   "outputs": [
    {
     "data": {
      "text/html": [
       "<style>#sk-container-id-1 {color: black;background-color: white;}#sk-container-id-1 pre{padding: 0;}#sk-container-id-1 div.sk-toggleable {background-color: white;}#sk-container-id-1 label.sk-toggleable__label {cursor: pointer;display: block;width: 100%;margin-bottom: 0;padding: 0.3em;box-sizing: border-box;text-align: center;}#sk-container-id-1 label.sk-toggleable__label-arrow:before {content: \"▸\";float: left;margin-right: 0.25em;color: #696969;}#sk-container-id-1 label.sk-toggleable__label-arrow:hover:before {color: black;}#sk-container-id-1 div.sk-estimator:hover label.sk-toggleable__label-arrow:before {color: black;}#sk-container-id-1 div.sk-toggleable__content {max-height: 0;max-width: 0;overflow: hidden;text-align: left;background-color: #f0f8ff;}#sk-container-id-1 div.sk-toggleable__content pre {margin: 0.2em;color: black;border-radius: 0.25em;background-color: #f0f8ff;}#sk-container-id-1 input.sk-toggleable__control:checked~div.sk-toggleable__content {max-height: 200px;max-width: 100%;overflow: auto;}#sk-container-id-1 input.sk-toggleable__control:checked~label.sk-toggleable__label-arrow:before {content: \"▾\";}#sk-container-id-1 div.sk-estimator input.sk-toggleable__control:checked~label.sk-toggleable__label {background-color: #d4ebff;}#sk-container-id-1 div.sk-label input.sk-toggleable__control:checked~label.sk-toggleable__label {background-color: #d4ebff;}#sk-container-id-1 input.sk-hidden--visually {border: 0;clip: rect(1px 1px 1px 1px);clip: rect(1px, 1px, 1px, 1px);height: 1px;margin: -1px;overflow: hidden;padding: 0;position: absolute;width: 1px;}#sk-container-id-1 div.sk-estimator {font-family: monospace;background-color: #f0f8ff;border: 1px dotted black;border-radius: 0.25em;box-sizing: border-box;margin-bottom: 0.5em;}#sk-container-id-1 div.sk-estimator:hover {background-color: #d4ebff;}#sk-container-id-1 div.sk-parallel-item::after {content: \"\";width: 100%;border-bottom: 1px solid gray;flex-grow: 1;}#sk-container-id-1 div.sk-label:hover label.sk-toggleable__label {background-color: #d4ebff;}#sk-container-id-1 div.sk-serial::before {content: \"\";position: absolute;border-left: 1px solid gray;box-sizing: border-box;top: 0;bottom: 0;left: 50%;z-index: 0;}#sk-container-id-1 div.sk-serial {display: flex;flex-direction: column;align-items: center;background-color: white;padding-right: 0.2em;padding-left: 0.2em;position: relative;}#sk-container-id-1 div.sk-item {position: relative;z-index: 1;}#sk-container-id-1 div.sk-parallel {display: flex;align-items: stretch;justify-content: center;background-color: white;position: relative;}#sk-container-id-1 div.sk-item::before, #sk-container-id-1 div.sk-parallel-item::before {content: \"\";position: absolute;border-left: 1px solid gray;box-sizing: border-box;top: 0;bottom: 0;left: 50%;z-index: -1;}#sk-container-id-1 div.sk-parallel-item {display: flex;flex-direction: column;z-index: 1;position: relative;background-color: white;}#sk-container-id-1 div.sk-parallel-item:first-child::after {align-self: flex-end;width: 50%;}#sk-container-id-1 div.sk-parallel-item:last-child::after {align-self: flex-start;width: 50%;}#sk-container-id-1 div.sk-parallel-item:only-child::after {width: 0;}#sk-container-id-1 div.sk-dashed-wrapped {border: 1px dashed gray;margin: 0 0.4em 0.5em 0.4em;box-sizing: border-box;padding-bottom: 0.4em;background-color: white;}#sk-container-id-1 div.sk-label label {font-family: monospace;font-weight: bold;display: inline-block;line-height: 1.2em;}#sk-container-id-1 div.sk-label-container {text-align: center;}#sk-container-id-1 div.sk-container {/* jupyter's `normalize.less` sets `[hidden] { display: none; }` but bootstrap.min.css set `[hidden] { display: none !important; }` so we also need the `!important` here to be able to override the default hidden behavior on the sphinx rendered scikit-learn.org. See: https://github.com/scikit-learn/scikit-learn/issues/21755 */display: inline-block !important;position: relative;}#sk-container-id-1 div.sk-text-repr-fallback {display: none;}</style><div id=\"sk-container-id-1\" class=\"sk-top-container\"><div class=\"sk-text-repr-fallback\"><pre>LinearRegression()</pre><b>In a Jupyter environment, please rerun this cell to show the HTML representation or trust the notebook. <br />On GitHub, the HTML representation is unable to render, please try loading this page with nbviewer.org.</b></div><div class=\"sk-container\" hidden><div class=\"sk-item\"><div class=\"sk-estimator sk-toggleable\"><input class=\"sk-toggleable__control sk-hidden--visually\" id=\"sk-estimator-id-1\" type=\"checkbox\" checked><label for=\"sk-estimator-id-1\" class=\"sk-toggleable__label sk-toggleable__label-arrow\">LinearRegression</label><div class=\"sk-toggleable__content\"><pre>LinearRegression()</pre></div></div></div></div></div>"
      ],
      "text/plain": [
       "LinearRegression()"
      ]
     },
     "execution_count": 52,
     "metadata": {},
     "output_type": "execute_result"
    }
   ],
   "source": [
    "from sklearn.linear_model import LinearRegression\n",
    "LR = LinearRegression()\n",
    "LR.fit(X_train,y_train)"
   ]
  },
  {
   "cell_type": "code",
   "execution_count": 53,
   "id": "451cc8f4-6b52-42d3-bc84-bbd5749a4b61",
   "metadata": {},
   "outputs": [],
   "source": [
    "# predicting \n",
    "y_train_predict=LR.predict(X_train)\n",
    "y_test_predict=LR.predict(X_test)"
   ]
  },
  {
   "cell_type": "code",
   "execution_count": 54,
   "id": "8df7d92c-02b3-4a69-a5ae-cc63d856d464",
   "metadata": {},
   "outputs": [
    {
     "name": "stdout",
     "output_type": "stream",
     "text": [
      "-------Test Data--------\n",
      "MAE: 0.3181741392505993\n",
      "MSE: 0.1512589576594412\n",
      "RMSE: 0.38892024588524726\n",
      "Explained Variance Score: 0.8237003785668255 4\n",
      "\n",
      "-------Train Data--------\n",
      "MAE: 0.38597482059521254\n",
      "MSE: 0.2682469198259088\n",
      "RMSE: 0.5179255929435316\n",
      "\n",
      "-----Training Accuracy-------\n",
      "72.7\n",
      "-----Testing Accuracy--------\n",
      "82.3\n"
     ]
    }
   ],
   "source": [
    "print(\"-------Test Data--------\")\n",
    "print('MAE:', metrics.mean_absolute_error(y_test, y_test_predict))\n",
    "print('MSE:', metrics.mean_squared_error(y_test, y_test_predict))\n",
    "print('RMSE:', np.sqrt(metrics.mean_squared_error(y_test, y_test_predict)))\n",
    "print('Explained Variance Score:', metrics.explained_variance_score(y_test, y_test_predict),4)\n",
    "\n",
    "print(\"\\n-------Train Data--------\")\n",
    "print('MAE:', metrics.mean_absolute_error(y_train,y_train_predict))\n",
    "print('MSE:', metrics.mean_squared_error(y_train, y_train_predict))\n",
    "print('RMSE:', np.sqrt(metrics.mean_squared_error(y_train, y_train_predict)))\n",
    "\n",
    "print(\"\\n-----Training Accuracy-------\")\n",
    "print(round(LR.score(X_train,y_train),3)*100)\n",
    "print(\"-----Testing Accuracy--------\")\n",
    "print(round(LR.score(X_test,y_test),3)*100)"
   ]
  },
  {
   "cell_type": "code",
   "execution_count": 95,
   "id": "294b15ed-1859-48f7-ae40-6c266ab856ea",
   "metadata": {},
   "outputs": [
    {
     "data": {
      "text/plain": [
       "array([3.73324218])"
      ]
     },
     "execution_count": 95,
     "metadata": {},
     "output_type": "execute_result"
    }
   ],
   "source": [
    "predicted = LR.predict([[3,3,3,3]])\n",
    "predicted"
   ]
  },
  {
   "cell_type": "markdown",
   "id": "7d6d2ede-6a58-49e1-b625-370067b3ac9c",
   "metadata": {},
   "source": [
    "### ❏ Random Forest Model"
   ]
  },
  {
   "cell_type": "code",
   "execution_count": 56,
   "id": "cc95f797-59ed-4d05-be0a-72687c01cdb4",
   "metadata": {},
   "outputs": [
    {
     "data": {
      "text/html": [
       "<style>#sk-container-id-2 {color: black;background-color: white;}#sk-container-id-2 pre{padding: 0;}#sk-container-id-2 div.sk-toggleable {background-color: white;}#sk-container-id-2 label.sk-toggleable__label {cursor: pointer;display: block;width: 100%;margin-bottom: 0;padding: 0.3em;box-sizing: border-box;text-align: center;}#sk-container-id-2 label.sk-toggleable__label-arrow:before {content: \"▸\";float: left;margin-right: 0.25em;color: #696969;}#sk-container-id-2 label.sk-toggleable__label-arrow:hover:before {color: black;}#sk-container-id-2 div.sk-estimator:hover label.sk-toggleable__label-arrow:before {color: black;}#sk-container-id-2 div.sk-toggleable__content {max-height: 0;max-width: 0;overflow: hidden;text-align: left;background-color: #f0f8ff;}#sk-container-id-2 div.sk-toggleable__content pre {margin: 0.2em;color: black;border-radius: 0.25em;background-color: #f0f8ff;}#sk-container-id-2 input.sk-toggleable__control:checked~div.sk-toggleable__content {max-height: 200px;max-width: 100%;overflow: auto;}#sk-container-id-2 input.sk-toggleable__control:checked~label.sk-toggleable__label-arrow:before {content: \"▾\";}#sk-container-id-2 div.sk-estimator input.sk-toggleable__control:checked~label.sk-toggleable__label {background-color: #d4ebff;}#sk-container-id-2 div.sk-label input.sk-toggleable__control:checked~label.sk-toggleable__label {background-color: #d4ebff;}#sk-container-id-2 input.sk-hidden--visually {border: 0;clip: rect(1px 1px 1px 1px);clip: rect(1px, 1px, 1px, 1px);height: 1px;margin: -1px;overflow: hidden;padding: 0;position: absolute;width: 1px;}#sk-container-id-2 div.sk-estimator {font-family: monospace;background-color: #f0f8ff;border: 1px dotted black;border-radius: 0.25em;box-sizing: border-box;margin-bottom: 0.5em;}#sk-container-id-2 div.sk-estimator:hover {background-color: #d4ebff;}#sk-container-id-2 div.sk-parallel-item::after {content: \"\";width: 100%;border-bottom: 1px solid gray;flex-grow: 1;}#sk-container-id-2 div.sk-label:hover label.sk-toggleable__label {background-color: #d4ebff;}#sk-container-id-2 div.sk-serial::before {content: \"\";position: absolute;border-left: 1px solid gray;box-sizing: border-box;top: 0;bottom: 0;left: 50%;z-index: 0;}#sk-container-id-2 div.sk-serial {display: flex;flex-direction: column;align-items: center;background-color: white;padding-right: 0.2em;padding-left: 0.2em;position: relative;}#sk-container-id-2 div.sk-item {position: relative;z-index: 1;}#sk-container-id-2 div.sk-parallel {display: flex;align-items: stretch;justify-content: center;background-color: white;position: relative;}#sk-container-id-2 div.sk-item::before, #sk-container-id-2 div.sk-parallel-item::before {content: \"\";position: absolute;border-left: 1px solid gray;box-sizing: border-box;top: 0;bottom: 0;left: 50%;z-index: -1;}#sk-container-id-2 div.sk-parallel-item {display: flex;flex-direction: column;z-index: 1;position: relative;background-color: white;}#sk-container-id-2 div.sk-parallel-item:first-child::after {align-self: flex-end;width: 50%;}#sk-container-id-2 div.sk-parallel-item:last-child::after {align-self: flex-start;width: 50%;}#sk-container-id-2 div.sk-parallel-item:only-child::after {width: 0;}#sk-container-id-2 div.sk-dashed-wrapped {border: 1px dashed gray;margin: 0 0.4em 0.5em 0.4em;box-sizing: border-box;padding-bottom: 0.4em;background-color: white;}#sk-container-id-2 div.sk-label label {font-family: monospace;font-weight: bold;display: inline-block;line-height: 1.2em;}#sk-container-id-2 div.sk-label-container {text-align: center;}#sk-container-id-2 div.sk-container {/* jupyter's `normalize.less` sets `[hidden] { display: none; }` but bootstrap.min.css set `[hidden] { display: none !important; }` so we also need the `!important` here to be able to override the default hidden behavior on the sphinx rendered scikit-learn.org. See: https://github.com/scikit-learn/scikit-learn/issues/21755 */display: inline-block !important;position: relative;}#sk-container-id-2 div.sk-text-repr-fallback {display: none;}</style><div id=\"sk-container-id-2\" class=\"sk-top-container\"><div class=\"sk-text-repr-fallback\"><pre>RandomForestRegressor(max_depth=100, max_features=&#x27;sqrt&#x27;, min_samples_leaf=4,\n",
       "                      min_samples_split=10, n_estimators=800)</pre><b>In a Jupyter environment, please rerun this cell to show the HTML representation or trust the notebook. <br />On GitHub, the HTML representation is unable to render, please try loading this page with nbviewer.org.</b></div><div class=\"sk-container\" hidden><div class=\"sk-item\"><div class=\"sk-estimator sk-toggleable\"><input class=\"sk-toggleable__control sk-hidden--visually\" id=\"sk-estimator-id-2\" type=\"checkbox\" checked><label for=\"sk-estimator-id-2\" class=\"sk-toggleable__label sk-toggleable__label-arrow\">RandomForestRegressor</label><div class=\"sk-toggleable__content\"><pre>RandomForestRegressor(max_depth=100, max_features=&#x27;sqrt&#x27;, min_samples_leaf=4,\n",
       "                      min_samples_split=10, n_estimators=800)</pre></div></div></div></div></div>"
      ],
      "text/plain": [
       "RandomForestRegressor(max_depth=100, max_features='sqrt', min_samples_leaf=4,\n",
       "                      min_samples_split=10, n_estimators=800)"
      ]
     },
     "execution_count": 56,
     "metadata": {},
     "output_type": "execute_result"
    }
   ],
   "source": [
    "from sklearn.ensemble import RandomForestRegressor\n",
    "random_forest_model = RandomForestRegressor(max_depth=100, max_features='sqrt', min_samples_leaf=4,\n",
    "                      min_samples_split=10, n_estimators=800)\n",
    "random_forest_model.fit(X_train, y_train)"
   ]
  },
  {
   "cell_type": "code",
   "execution_count": 57,
   "id": "29415530-96be-43c7-99c0-23a261fdd43d",
   "metadata": {},
   "outputs": [],
   "source": [
    "y_train_predict=random_forest_model.predict(X_train)\n",
    "y_test_predict=random_forest_model.predict(X_test)"
   ]
  },
  {
   "cell_type": "code",
   "execution_count": 58,
   "id": "d64d601c-b27c-429a-bdb8-aff9093a9de5",
   "metadata": {},
   "outputs": [
    {
     "name": "stdout",
     "output_type": "stream",
     "text": [
      "-------Test Data--------\n",
      "MAE: 0.3363508828444779\n",
      "MSE: 0.17917724514900235\n",
      "RMSE: 0.4232933322756246\n",
      "\n",
      "-------Train Data--------\n",
      "MAE: 0.2915952983543072\n",
      "MSE: 0.16218951099544568\n",
      "RMSE: 0.4027275890666614\n"
     ]
    }
   ],
   "source": [
    "print(\"-------Test Data--------\")\n",
    "print('MAE:', metrics.mean_absolute_error(y_test, y_test_predict))\n",
    "print('MSE:', metrics.mean_squared_error(y_test, y_test_predict))\n",
    "print('RMSE:', np.sqrt(metrics.mean_squared_error(y_test, y_test_predict)))\n",
    "\n",
    "print(\"\\n-------Train Data--------\")\n",
    "print('MAE:', metrics.mean_absolute_error(y_train,y_train_predict))\n",
    "print('MSE:', metrics.mean_squared_error(y_train, y_train_predict))\n",
    "print('RMSE:', np.sqrt(metrics.mean_squared_error(y_train, y_train_predict)))"
   ]
  },
  {
   "cell_type": "code",
   "execution_count": 59,
   "id": "3666b3c8-7817-4d69-bc4a-16f02a3c58aa",
   "metadata": {},
   "outputs": [
    {
     "name": "stdout",
     "output_type": "stream",
     "text": [
      "-----------Training Accuracy------------\n",
      "83.5\n",
      "-----------Testing Accuracy------------\n",
      "79.0\n"
     ]
    }
   ],
   "source": [
    "print(\"-----------Training Accuracy------------\")\n",
    "print(round(random_forest_model.score(X_train,y_train),3)*100)\n",
    "print(\"-----------Testing Accuracy------------\")\n",
    "print(round(random_forest_model.score(X_test,y_test),3)*100)"
   ]
  },
  {
   "cell_type": "code",
   "execution_count": 94,
   "id": "33bbfc80-5f13-444f-adf1-9f56e9f04c34",
   "metadata": {},
   "outputs": [
    {
     "data": {
      "text/plain": [
       "array([5.14163358])"
      ]
     },
     "execution_count": 94,
     "metadata": {},
     "output_type": "execute_result"
    }
   ],
   "source": [
    "predicted = random_forest_model.predict([[3,3,3,3]])\n",
    "predicted"
   ]
  },
  {
   "cell_type": "markdown",
   "id": "3ca0de58-3e9d-4234-9d62-0857d9edea8e",
   "metadata": {},
   "source": [
    "### ❏ SVM "
   ]
  },
  {
   "cell_type": "code",
   "execution_count": 61,
   "id": "8d18fde9-27c9-43fa-948e-ec329acc6dd4",
   "metadata": {},
   "outputs": [
    {
     "data": {
      "text/html": [
       "<style>#sk-container-id-3 {color: black;background-color: white;}#sk-container-id-3 pre{padding: 0;}#sk-container-id-3 div.sk-toggleable {background-color: white;}#sk-container-id-3 label.sk-toggleable__label {cursor: pointer;display: block;width: 100%;margin-bottom: 0;padding: 0.3em;box-sizing: border-box;text-align: center;}#sk-container-id-3 label.sk-toggleable__label-arrow:before {content: \"▸\";float: left;margin-right: 0.25em;color: #696969;}#sk-container-id-3 label.sk-toggleable__label-arrow:hover:before {color: black;}#sk-container-id-3 div.sk-estimator:hover label.sk-toggleable__label-arrow:before {color: black;}#sk-container-id-3 div.sk-toggleable__content {max-height: 0;max-width: 0;overflow: hidden;text-align: left;background-color: #f0f8ff;}#sk-container-id-3 div.sk-toggleable__content pre {margin: 0.2em;color: black;border-radius: 0.25em;background-color: #f0f8ff;}#sk-container-id-3 input.sk-toggleable__control:checked~div.sk-toggleable__content {max-height: 200px;max-width: 100%;overflow: auto;}#sk-container-id-3 input.sk-toggleable__control:checked~label.sk-toggleable__label-arrow:before {content: \"▾\";}#sk-container-id-3 div.sk-estimator input.sk-toggleable__control:checked~label.sk-toggleable__label {background-color: #d4ebff;}#sk-container-id-3 div.sk-label input.sk-toggleable__control:checked~label.sk-toggleable__label {background-color: #d4ebff;}#sk-container-id-3 input.sk-hidden--visually {border: 0;clip: rect(1px 1px 1px 1px);clip: rect(1px, 1px, 1px, 1px);height: 1px;margin: -1px;overflow: hidden;padding: 0;position: absolute;width: 1px;}#sk-container-id-3 div.sk-estimator {font-family: monospace;background-color: #f0f8ff;border: 1px dotted black;border-radius: 0.25em;box-sizing: border-box;margin-bottom: 0.5em;}#sk-container-id-3 div.sk-estimator:hover {background-color: #d4ebff;}#sk-container-id-3 div.sk-parallel-item::after {content: \"\";width: 100%;border-bottom: 1px solid gray;flex-grow: 1;}#sk-container-id-3 div.sk-label:hover label.sk-toggleable__label {background-color: #d4ebff;}#sk-container-id-3 div.sk-serial::before {content: \"\";position: absolute;border-left: 1px solid gray;box-sizing: border-box;top: 0;bottom: 0;left: 50%;z-index: 0;}#sk-container-id-3 div.sk-serial {display: flex;flex-direction: column;align-items: center;background-color: white;padding-right: 0.2em;padding-left: 0.2em;position: relative;}#sk-container-id-3 div.sk-item {position: relative;z-index: 1;}#sk-container-id-3 div.sk-parallel {display: flex;align-items: stretch;justify-content: center;background-color: white;position: relative;}#sk-container-id-3 div.sk-item::before, #sk-container-id-3 div.sk-parallel-item::before {content: \"\";position: absolute;border-left: 1px solid gray;box-sizing: border-box;top: 0;bottom: 0;left: 50%;z-index: -1;}#sk-container-id-3 div.sk-parallel-item {display: flex;flex-direction: column;z-index: 1;position: relative;background-color: white;}#sk-container-id-3 div.sk-parallel-item:first-child::after {align-self: flex-end;width: 50%;}#sk-container-id-3 div.sk-parallel-item:last-child::after {align-self: flex-start;width: 50%;}#sk-container-id-3 div.sk-parallel-item:only-child::after {width: 0;}#sk-container-id-3 div.sk-dashed-wrapped {border: 1px dashed gray;margin: 0 0.4em 0.5em 0.4em;box-sizing: border-box;padding-bottom: 0.4em;background-color: white;}#sk-container-id-3 div.sk-label label {font-family: monospace;font-weight: bold;display: inline-block;line-height: 1.2em;}#sk-container-id-3 div.sk-label-container {text-align: center;}#sk-container-id-3 div.sk-container {/* jupyter's `normalize.less` sets `[hidden] { display: none; }` but bootstrap.min.css set `[hidden] { display: none !important; }` so we also need the `!important` here to be able to override the default hidden behavior on the sphinx rendered scikit-learn.org. See: https://github.com/scikit-learn/scikit-learn/issues/21755 */display: inline-block !important;position: relative;}#sk-container-id-3 div.sk-text-repr-fallback {display: none;}</style><div id=\"sk-container-id-3\" class=\"sk-top-container\"><div class=\"sk-text-repr-fallback\"><pre>SVR()</pre><b>In a Jupyter environment, please rerun this cell to show the HTML representation or trust the notebook. <br />On GitHub, the HTML representation is unable to render, please try loading this page with nbviewer.org.</b></div><div class=\"sk-container\" hidden><div class=\"sk-item\"><div class=\"sk-estimator sk-toggleable\"><input class=\"sk-toggleable__control sk-hidden--visually\" id=\"sk-estimator-id-3\" type=\"checkbox\" checked><label for=\"sk-estimator-id-3\" class=\"sk-toggleable__label sk-toggleable__label-arrow\">SVR</label><div class=\"sk-toggleable__content\"><pre>SVR()</pre></div></div></div></div></div>"
      ],
      "text/plain": [
       "SVR()"
      ]
     },
     "execution_count": 61,
     "metadata": {},
     "output_type": "execute_result"
    }
   ],
   "source": [
    "from sklearn.svm import SVR\n",
    "svm_regr = SVR(kernel='rbf')\n",
    "svm_regr.fit(X_train, y_train)"
   ]
  },
  {
   "cell_type": "code",
   "execution_count": 62,
   "id": "d535af33-778d-45c7-8b24-85dc5abdcdb4",
   "metadata": {},
   "outputs": [],
   "source": [
    "y_train_predict=svm_regr.predict(X_train)\n",
    "y_test_predict=svm_regr.predict(X_test)"
   ]
  },
  {
   "cell_type": "code",
   "execution_count": 63,
   "id": "ed76f73b-b95c-43e3-ac95-d15393e94eda",
   "metadata": {},
   "outputs": [
    {
     "name": "stdout",
     "output_type": "stream",
     "text": [
      "-------Test Data--------\n",
      "MAE: 0.31235761665647416\n",
      "MSE: 0.1609030930961599\n",
      "RMSE: 0.4011272779257974\n",
      "\n",
      "-------Train Data--------\n",
      "MAE: 0.35563775064498077\n",
      "MSE: 0.24915927938688603\n",
      "RMSE: 0.4991585713847715\n"
     ]
    }
   ],
   "source": [
    "print(\"-------Test Data--------\")\n",
    "print('MAE:', metrics.mean_absolute_error(y_test, y_test_predict))\n",
    "print('MSE:', metrics.mean_squared_error(y_test, y_test_predict))\n",
    "print('RMSE:', np.sqrt(metrics.mean_squared_error(y_test, y_test_predict)))\n",
    "\n",
    "print(\"\\n-------Train Data--------\")\n",
    "print('MAE:', metrics.mean_absolute_error(y_train,y_train_predict))\n",
    "print('MSE:', metrics.mean_squared_error(y_train, y_train_predict))\n",
    "print('RMSE:', np.sqrt(metrics.mean_squared_error(y_train, y_train_predict)))"
   ]
  },
  {
   "cell_type": "code",
   "execution_count": 64,
   "id": "f436a3ed-1094-47a7-978f-936b22ffce65",
   "metadata": {},
   "outputs": [
    {
     "name": "stdout",
     "output_type": "stream",
     "text": [
      "-----------Training Accuracy------------\n",
      "74.7\n",
      "-----------Testing Accuracy------------\n",
      "81.2\n"
     ]
    }
   ],
   "source": [
    "print(\"-----------Training Accuracy------------\")\n",
    "print(round(svm_regr.score(X_train,y_train),3)*100)\n",
    "print(\"-----------Testing Accuracy------------\")\n",
    "print(round(svm_regr.score(X_test,y_test),3)*100)"
   ]
  },
  {
   "cell_type": "code",
   "execution_count": 101,
   "id": "a52d83e3-27d2-45a1-9482-9bac12a0a8af",
   "metadata": {},
   "outputs": [
    {
     "data": {
      "text/plain": [
       "array([7.35280958])"
      ]
     },
     "execution_count": 101,
     "metadata": {},
     "output_type": "execute_result"
    }
   ],
   "source": [
    "predicted = svm_regr.predict([[3,3,3,3]])\n",
    "predicted"
   ]
  },
  {
   "cell_type": "markdown",
   "id": "8d927970-a2ba-4f44-aabb-dfba289691ff",
   "metadata": {},
   "source": [
    "### ❏ xgboost"
   ]
  },
  {
   "cell_type": "code",
   "execution_count": 66,
   "id": "07f3495e-d8c4-47cc-9422-10101ca6e82f",
   "metadata": {},
   "outputs": [
    {
     "name": "stdout",
     "output_type": "stream",
     "text": [
      "Requirement already satisfied: xgboost in /Users/adityadubey/Library/jupyterlab-desktop/jlab_server/lib/python3.8/site-packages (1.6.2)\n",
      "Requirement already satisfied: numpy in /Users/adityadubey/Library/jupyterlab-desktop/jlab_server/lib/python3.8/site-packages (from xgboost) (1.23.2)\n",
      "Requirement already satisfied: scipy in /Users/adityadubey/Library/jupyterlab-desktop/jlab_server/lib/python3.8/site-packages (from xgboost) (1.9.1)\n",
      "Note: you may need to restart the kernel to use updated packages.\n"
     ]
    }
   ],
   "source": [
    "pip install xgboost"
   ]
  },
  {
   "cell_type": "code",
   "execution_count": 67,
   "id": "ea438e36-840d-4013-bff8-e6b560d4ca9e",
   "metadata": {},
   "outputs": [
    {
     "data": {
      "text/html": [
       "<style>#sk-container-id-4 {color: black;background-color: white;}#sk-container-id-4 pre{padding: 0;}#sk-container-id-4 div.sk-toggleable {background-color: white;}#sk-container-id-4 label.sk-toggleable__label {cursor: pointer;display: block;width: 100%;margin-bottom: 0;padding: 0.3em;box-sizing: border-box;text-align: center;}#sk-container-id-4 label.sk-toggleable__label-arrow:before {content: \"▸\";float: left;margin-right: 0.25em;color: #696969;}#sk-container-id-4 label.sk-toggleable__label-arrow:hover:before {color: black;}#sk-container-id-4 div.sk-estimator:hover label.sk-toggleable__label-arrow:before {color: black;}#sk-container-id-4 div.sk-toggleable__content {max-height: 0;max-width: 0;overflow: hidden;text-align: left;background-color: #f0f8ff;}#sk-container-id-4 div.sk-toggleable__content pre {margin: 0.2em;color: black;border-radius: 0.25em;background-color: #f0f8ff;}#sk-container-id-4 input.sk-toggleable__control:checked~div.sk-toggleable__content {max-height: 200px;max-width: 100%;overflow: auto;}#sk-container-id-4 input.sk-toggleable__control:checked~label.sk-toggleable__label-arrow:before {content: \"▾\";}#sk-container-id-4 div.sk-estimator input.sk-toggleable__control:checked~label.sk-toggleable__label {background-color: #d4ebff;}#sk-container-id-4 div.sk-label input.sk-toggleable__control:checked~label.sk-toggleable__label {background-color: #d4ebff;}#sk-container-id-4 input.sk-hidden--visually {border: 0;clip: rect(1px 1px 1px 1px);clip: rect(1px, 1px, 1px, 1px);height: 1px;margin: -1px;overflow: hidden;padding: 0;position: absolute;width: 1px;}#sk-container-id-4 div.sk-estimator {font-family: monospace;background-color: #f0f8ff;border: 1px dotted black;border-radius: 0.25em;box-sizing: border-box;margin-bottom: 0.5em;}#sk-container-id-4 div.sk-estimator:hover {background-color: #d4ebff;}#sk-container-id-4 div.sk-parallel-item::after {content: \"\";width: 100%;border-bottom: 1px solid gray;flex-grow: 1;}#sk-container-id-4 div.sk-label:hover label.sk-toggleable__label {background-color: #d4ebff;}#sk-container-id-4 div.sk-serial::before {content: \"\";position: absolute;border-left: 1px solid gray;box-sizing: border-box;top: 0;bottom: 0;left: 50%;z-index: 0;}#sk-container-id-4 div.sk-serial {display: flex;flex-direction: column;align-items: center;background-color: white;padding-right: 0.2em;padding-left: 0.2em;position: relative;}#sk-container-id-4 div.sk-item {position: relative;z-index: 1;}#sk-container-id-4 div.sk-parallel {display: flex;align-items: stretch;justify-content: center;background-color: white;position: relative;}#sk-container-id-4 div.sk-item::before, #sk-container-id-4 div.sk-parallel-item::before {content: \"\";position: absolute;border-left: 1px solid gray;box-sizing: border-box;top: 0;bottom: 0;left: 50%;z-index: -1;}#sk-container-id-4 div.sk-parallel-item {display: flex;flex-direction: column;z-index: 1;position: relative;background-color: white;}#sk-container-id-4 div.sk-parallel-item:first-child::after {align-self: flex-end;width: 50%;}#sk-container-id-4 div.sk-parallel-item:last-child::after {align-self: flex-start;width: 50%;}#sk-container-id-4 div.sk-parallel-item:only-child::after {width: 0;}#sk-container-id-4 div.sk-dashed-wrapped {border: 1px dashed gray;margin: 0 0.4em 0.5em 0.4em;box-sizing: border-box;padding-bottom: 0.4em;background-color: white;}#sk-container-id-4 div.sk-label label {font-family: monospace;font-weight: bold;display: inline-block;line-height: 1.2em;}#sk-container-id-4 div.sk-label-container {text-align: center;}#sk-container-id-4 div.sk-container {/* jupyter's `normalize.less` sets `[hidden] { display: none; }` but bootstrap.min.css set `[hidden] { display: none !important; }` so we also need the `!important` here to be able to override the default hidden behavior on the sphinx rendered scikit-learn.org. See: https://github.com/scikit-learn/scikit-learn/issues/21755 */display: inline-block !important;position: relative;}#sk-container-id-4 div.sk-text-repr-fallback {display: none;}</style><div id=\"sk-container-id-4\" class=\"sk-top-container\"><div class=\"sk-text-repr-fallback\"><pre>XGBRegressor(base_score=0.5, booster=&#x27;gbtree&#x27;, callbacks=None,\n",
       "             colsample_bylevel=1, colsample_bynode=1, colsample_bytree=1,\n",
       "             early_stopping_rounds=None, enable_categorical=False,\n",
       "             eval_metric=None, gamma=0, gpu_id=-1, grow_policy=&#x27;depthwise&#x27;,\n",
       "             importance_type=None, interaction_constraints=&#x27;&#x27;,\n",
       "             learning_rate=0.300000012, max_bin=256, max_cat_to_onehot=4,\n",
       "             max_delta_step=0, max_depth=6, max_leaves=0, min_child_weight=1,\n",
       "             missing=nan, monotone_constraints=&#x27;()&#x27;, n_estimators=100, n_jobs=0,\n",
       "             num_parallel_tree=1, predictor=&#x27;auto&#x27;, random_state=0, reg_alpha=0,\n",
       "             reg_lambda=1, ...)</pre><b>In a Jupyter environment, please rerun this cell to show the HTML representation or trust the notebook. <br />On GitHub, the HTML representation is unable to render, please try loading this page with nbviewer.org.</b></div><div class=\"sk-container\" hidden><div class=\"sk-item\"><div class=\"sk-estimator sk-toggleable\"><input class=\"sk-toggleable__control sk-hidden--visually\" id=\"sk-estimator-id-4\" type=\"checkbox\" checked><label for=\"sk-estimator-id-4\" class=\"sk-toggleable__label sk-toggleable__label-arrow\">XGBRegressor</label><div class=\"sk-toggleable__content\"><pre>XGBRegressor(base_score=0.5, booster=&#x27;gbtree&#x27;, callbacks=None,\n",
       "             colsample_bylevel=1, colsample_bynode=1, colsample_bytree=1,\n",
       "             early_stopping_rounds=None, enable_categorical=False,\n",
       "             eval_metric=None, gamma=0, gpu_id=-1, grow_policy=&#x27;depthwise&#x27;,\n",
       "             importance_type=None, interaction_constraints=&#x27;&#x27;,\n",
       "             learning_rate=0.300000012, max_bin=256, max_cat_to_onehot=4,\n",
       "             max_delta_step=0, max_depth=6, max_leaves=0, min_child_weight=1,\n",
       "             missing=nan, monotone_constraints=&#x27;()&#x27;, n_estimators=100, n_jobs=0,\n",
       "             num_parallel_tree=1, predictor=&#x27;auto&#x27;, random_state=0, reg_alpha=0,\n",
       "             reg_lambda=1, ...)</pre></div></div></div></div></div>"
      ],
      "text/plain": [
       "XGBRegressor(base_score=0.5, booster='gbtree', callbacks=None,\n",
       "             colsample_bylevel=1, colsample_bynode=1, colsample_bytree=1,\n",
       "             early_stopping_rounds=None, enable_categorical=False,\n",
       "             eval_metric=None, gamma=0, gpu_id=-1, grow_policy='depthwise',\n",
       "             importance_type=None, interaction_constraints='',\n",
       "             learning_rate=0.300000012, max_bin=256, max_cat_to_onehot=4,\n",
       "             max_delta_step=0, max_depth=6, max_leaves=0, min_child_weight=1,\n",
       "             missing=nan, monotone_constraints='()', n_estimators=100, n_jobs=0,\n",
       "             num_parallel_tree=1, predictor='auto', random_state=0, reg_alpha=0,\n",
       "             reg_lambda=1, ...)"
      ]
     },
     "execution_count": 67,
     "metadata": {},
     "output_type": "execute_result"
    }
   ],
   "source": [
    "from xgboost import XGBRegressor\n",
    "xgb = XGBRegressor()\n",
    "xgb.fit(X_train, y_train)"
   ]
  },
  {
   "cell_type": "code",
   "execution_count": 68,
   "id": "83de9c44-1cfe-4685-9c6d-c81adc4f75bc",
   "metadata": {},
   "outputs": [],
   "source": [
    "y_train_predict=xgb.predict(X_train)\n",
    "y_test_predict=xgb.predict(X_test)"
   ]
  },
  {
   "cell_type": "code",
   "execution_count": 69,
   "id": "8467f35a-f78f-4f40-a1c3-d6987b7d6775",
   "metadata": {},
   "outputs": [
    {
     "name": "stdout",
     "output_type": "stream",
     "text": [
      "-------Test Data--------\n",
      "MAE: 0.39162616746586004\n",
      "MSE: 0.2490668197598719\n",
      "RMSE: 0.4990659473054357\n",
      "\n",
      "-------Train Data--------\n",
      "MAE: 0.030156957334000072\n",
      "MSE: 0.0019614723480492085\n",
      "RMSE: 0.04428851259693882\n"
     ]
    }
   ],
   "source": [
    "print(\"-------Test Data--------\")\n",
    "print('MAE:', metrics.mean_absolute_error(y_test, y_test_predict))\n",
    "print('MSE:', metrics.mean_squared_error(y_test, y_test_predict))\n",
    "print('RMSE:', np.sqrt(metrics.mean_squared_error(y_test, y_test_predict)))\n",
    "\n",
    "print(\"\\n-------Train Data--------\")\n",
    "print('MAE:', metrics.mean_absolute_error(y_train,y_train_predict))\n",
    "print('MSE:', metrics.mean_squared_error(y_train, y_train_predict))\n",
    "print('RMSE:', np.sqrt(metrics.mean_squared_error(y_train, y_train_predict)))"
   ]
  },
  {
   "cell_type": "code",
   "execution_count": 70,
   "id": "572f44ba-8745-4ee9-b924-0bff58fc9ebc",
   "metadata": {},
   "outputs": [
    {
     "name": "stdout",
     "output_type": "stream",
     "text": [
      "-----------Training Accuracy------------\n",
      "99.8\n",
      "-----------Testing Accuracy------------\n",
      "70.8\n"
     ]
    }
   ],
   "source": [
    "print(\"-----------Training Accuracy------------\")\n",
    "print(round(xgb.score(X_train,y_train),3)*100)\n",
    "print(\"-----------Testing Accuracy------------\")\n",
    "print(round(xgb.score(X_test,y_test),3)*100)"
   ]
  },
  {
   "cell_type": "code",
   "execution_count": 102,
   "id": "124fecff-17b7-4ba5-8a6a-a40376b7b8f8",
   "metadata": {},
   "outputs": [
    {
     "data": {
      "text/plain": [
       "array([3.6540844], dtype=float32)"
      ]
     },
     "execution_count": 102,
     "metadata": {},
     "output_type": "execute_result"
    }
   ],
   "source": [
    "predicted = xgb.predict([[3,3,3,3]])\n",
    "predicted"
   ]
  },
  {
   "cell_type": "markdown",
   "id": "01a94cbd-8c09-4edd-9028-260eb31c4e11",
   "metadata": {},
   "source": [
    "### ❏ Gradient Boosting Regressor"
   ]
  },
  {
   "cell_type": "code",
   "execution_count": 72,
   "id": "fab132da-3da6-4c5c-bdc0-58ac08155695",
   "metadata": {},
   "outputs": [
    {
     "data": {
      "text/html": [
       "<style>#sk-container-id-5 {color: black;background-color: white;}#sk-container-id-5 pre{padding: 0;}#sk-container-id-5 div.sk-toggleable {background-color: white;}#sk-container-id-5 label.sk-toggleable__label {cursor: pointer;display: block;width: 100%;margin-bottom: 0;padding: 0.3em;box-sizing: border-box;text-align: center;}#sk-container-id-5 label.sk-toggleable__label-arrow:before {content: \"▸\";float: left;margin-right: 0.25em;color: #696969;}#sk-container-id-5 label.sk-toggleable__label-arrow:hover:before {color: black;}#sk-container-id-5 div.sk-estimator:hover label.sk-toggleable__label-arrow:before {color: black;}#sk-container-id-5 div.sk-toggleable__content {max-height: 0;max-width: 0;overflow: hidden;text-align: left;background-color: #f0f8ff;}#sk-container-id-5 div.sk-toggleable__content pre {margin: 0.2em;color: black;border-radius: 0.25em;background-color: #f0f8ff;}#sk-container-id-5 input.sk-toggleable__control:checked~div.sk-toggleable__content {max-height: 200px;max-width: 100%;overflow: auto;}#sk-container-id-5 input.sk-toggleable__control:checked~label.sk-toggleable__label-arrow:before {content: \"▾\";}#sk-container-id-5 div.sk-estimator input.sk-toggleable__control:checked~label.sk-toggleable__label {background-color: #d4ebff;}#sk-container-id-5 div.sk-label input.sk-toggleable__control:checked~label.sk-toggleable__label {background-color: #d4ebff;}#sk-container-id-5 input.sk-hidden--visually {border: 0;clip: rect(1px 1px 1px 1px);clip: rect(1px, 1px, 1px, 1px);height: 1px;margin: -1px;overflow: hidden;padding: 0;position: absolute;width: 1px;}#sk-container-id-5 div.sk-estimator {font-family: monospace;background-color: #f0f8ff;border: 1px dotted black;border-radius: 0.25em;box-sizing: border-box;margin-bottom: 0.5em;}#sk-container-id-5 div.sk-estimator:hover {background-color: #d4ebff;}#sk-container-id-5 div.sk-parallel-item::after {content: \"\";width: 100%;border-bottom: 1px solid gray;flex-grow: 1;}#sk-container-id-5 div.sk-label:hover label.sk-toggleable__label {background-color: #d4ebff;}#sk-container-id-5 div.sk-serial::before {content: \"\";position: absolute;border-left: 1px solid gray;box-sizing: border-box;top: 0;bottom: 0;left: 50%;z-index: 0;}#sk-container-id-5 div.sk-serial {display: flex;flex-direction: column;align-items: center;background-color: white;padding-right: 0.2em;padding-left: 0.2em;position: relative;}#sk-container-id-5 div.sk-item {position: relative;z-index: 1;}#sk-container-id-5 div.sk-parallel {display: flex;align-items: stretch;justify-content: center;background-color: white;position: relative;}#sk-container-id-5 div.sk-item::before, #sk-container-id-5 div.sk-parallel-item::before {content: \"\";position: absolute;border-left: 1px solid gray;box-sizing: border-box;top: 0;bottom: 0;left: 50%;z-index: -1;}#sk-container-id-5 div.sk-parallel-item {display: flex;flex-direction: column;z-index: 1;position: relative;background-color: white;}#sk-container-id-5 div.sk-parallel-item:first-child::after {align-self: flex-end;width: 50%;}#sk-container-id-5 div.sk-parallel-item:last-child::after {align-self: flex-start;width: 50%;}#sk-container-id-5 div.sk-parallel-item:only-child::after {width: 0;}#sk-container-id-5 div.sk-dashed-wrapped {border: 1px dashed gray;margin: 0 0.4em 0.5em 0.4em;box-sizing: border-box;padding-bottom: 0.4em;background-color: white;}#sk-container-id-5 div.sk-label label {font-family: monospace;font-weight: bold;display: inline-block;line-height: 1.2em;}#sk-container-id-5 div.sk-label-container {text-align: center;}#sk-container-id-5 div.sk-container {/* jupyter's `normalize.less` sets `[hidden] { display: none; }` but bootstrap.min.css set `[hidden] { display: none !important; }` so we also need the `!important` here to be able to override the default hidden behavior on the sphinx rendered scikit-learn.org. See: https://github.com/scikit-learn/scikit-learn/issues/21755 */display: inline-block !important;position: relative;}#sk-container-id-5 div.sk-text-repr-fallback {display: none;}</style><div id=\"sk-container-id-5\" class=\"sk-top-container\"><div class=\"sk-text-repr-fallback\"><pre>GradientBoostingRegressor(random_state=0)</pre><b>In a Jupyter environment, please rerun this cell to show the HTML representation or trust the notebook. <br />On GitHub, the HTML representation is unable to render, please try loading this page with nbviewer.org.</b></div><div class=\"sk-container\" hidden><div class=\"sk-item\"><div class=\"sk-estimator sk-toggleable\"><input class=\"sk-toggleable__control sk-hidden--visually\" id=\"sk-estimator-id-5\" type=\"checkbox\" checked><label for=\"sk-estimator-id-5\" class=\"sk-toggleable__label sk-toggleable__label-arrow\">GradientBoostingRegressor</label><div class=\"sk-toggleable__content\"><pre>GradientBoostingRegressor(random_state=0)</pre></div></div></div></div></div>"
      ],
      "text/plain": [
       "GradientBoostingRegressor(random_state=0)"
      ]
     },
     "execution_count": 72,
     "metadata": {},
     "output_type": "execute_result"
    }
   ],
   "source": [
    "from sklearn.ensemble import GradientBoostingRegressor\n",
    "gbr = GradientBoostingRegressor(random_state=0)\n",
    "gbr.fit(X_train, y_train)"
   ]
  },
  {
   "cell_type": "code",
   "execution_count": 73,
   "id": "884b38c0-7387-4d1a-b02a-deef0f1cbff0",
   "metadata": {},
   "outputs": [],
   "source": [
    "y_train_predict=gbr.predict(X_train)\n",
    "y_test_predict=gbr.predict(X_test)"
   ]
  },
  {
   "cell_type": "code",
   "execution_count": 74,
   "id": "24bd956b-cccd-468a-bf33-c8b0ddb12c36",
   "metadata": {},
   "outputs": [
    {
     "name": "stdout",
     "output_type": "stream",
     "text": [
      "-------Test Data--------\n",
      "MAE: 0.33144913949547605\n",
      "MSE: 0.17142925153727598\n",
      "RMSE: 0.4140401569138868\n",
      "\n",
      "-------Train Data--------\n",
      "MAE: 0.2765707130050261\n",
      "MSE: 0.13254215311398654\n",
      "RMSE: 0.3640633916146837\n"
     ]
    }
   ],
   "source": [
    "print(\"-------Test Data--------\")\n",
    "print('MAE:', metrics.mean_absolute_error(y_test, y_test_predict))\n",
    "print('MSE:', metrics.mean_squared_error(y_test, y_test_predict))\n",
    "print('RMSE:', np.sqrt(metrics.mean_squared_error(y_test, y_test_predict)))\n",
    "\n",
    "print(\"\\n-------Train Data--------\")\n",
    "print('MAE:', metrics.mean_absolute_error(y_train,y_train_predict))\n",
    "print('MSE:', metrics.mean_squared_error(y_train, y_train_predict))\n",
    "print('RMSE:', np.sqrt(metrics.mean_squared_error(y_train, y_train_predict)))"
   ]
  },
  {
   "cell_type": "code",
   "execution_count": 75,
   "id": "c213c463-e679-4681-8fc3-84474904a933",
   "metadata": {},
   "outputs": [
    {
     "name": "stdout",
     "output_type": "stream",
     "text": [
      "-----------Training Accuracy------------\n",
      "86.5\n",
      "-----------Testing Accuracy------------\n",
      "79.9\n"
     ]
    }
   ],
   "source": [
    "print(\"-----------Training Accuracy------------\")\n",
    "print(round(gbr.score(X_train,y_train),3)*100)\n",
    "print(\"-----------Testing Accuracy------------\")\n",
    "print(round(gbr.score(X_test,y_test),3)*100)"
   ]
  },
  {
   "cell_type": "code",
   "execution_count": 103,
   "id": "4391233c-2aae-48b8-8775-bdd63f08146b",
   "metadata": {},
   "outputs": [
    {
     "data": {
      "text/plain": [
       "array([5.32119944])"
      ]
     },
     "execution_count": 103,
     "metadata": {},
     "output_type": "execute_result"
    }
   ],
   "source": [
    "predicted = gbr.predict([[3,3,3,3]])\n",
    "predicted"
   ]
  },
  {
   "cell_type": "markdown",
   "id": "b82c51f9-3fd5-4ac4-bc9f-fc5d92ac291f",
   "metadata": {},
   "source": [
    "# Ensemble Stacking"
   ]
  },
  {
   "cell_type": "markdown",
   "id": "8bea1276-94a5-4bff-89c7-1a1e4794bed1",
   "metadata": {},
   "source": [
    "### ❏ Hybrid Model 1"
   ]
  },
  {
   "cell_type": "markdown",
   "id": "84311116-9b5e-43b3-a897-e48f08658cf5",
   "metadata": {},
   "source": [
    "The stacked model with meta learner = xgboost and the weak learners = Linear Regression, Random Forest and SVM"
   ]
  },
  {
   "cell_type": "code",
   "execution_count": 77,
   "id": "7fa435ad-5c6f-44bc-b890-42c06aa0a74c",
   "metadata": {},
   "outputs": [],
   "source": [
    "from mlxtend.regressor import StackingCVRegressor"
   ]
  },
  {
   "cell_type": "code",
   "execution_count": 78,
   "id": "dc556f97-7a35-4ee1-8f3c-449d824f0ec2",
   "metadata": {},
   "outputs": [
    {
     "data": {
      "text/html": [
       "<style>#sk-container-id-6 {color: black;background-color: white;}#sk-container-id-6 pre{padding: 0;}#sk-container-id-6 div.sk-toggleable {background-color: white;}#sk-container-id-6 label.sk-toggleable__label {cursor: pointer;display: block;width: 100%;margin-bottom: 0;padding: 0.3em;box-sizing: border-box;text-align: center;}#sk-container-id-6 label.sk-toggleable__label-arrow:before {content: \"▸\";float: left;margin-right: 0.25em;color: #696969;}#sk-container-id-6 label.sk-toggleable__label-arrow:hover:before {color: black;}#sk-container-id-6 div.sk-estimator:hover label.sk-toggleable__label-arrow:before {color: black;}#sk-container-id-6 div.sk-toggleable__content {max-height: 0;max-width: 0;overflow: hidden;text-align: left;background-color: #f0f8ff;}#sk-container-id-6 div.sk-toggleable__content pre {margin: 0.2em;color: black;border-radius: 0.25em;background-color: #f0f8ff;}#sk-container-id-6 input.sk-toggleable__control:checked~div.sk-toggleable__content {max-height: 200px;max-width: 100%;overflow: auto;}#sk-container-id-6 input.sk-toggleable__control:checked~label.sk-toggleable__label-arrow:before {content: \"▾\";}#sk-container-id-6 div.sk-estimator input.sk-toggleable__control:checked~label.sk-toggleable__label {background-color: #d4ebff;}#sk-container-id-6 div.sk-label input.sk-toggleable__control:checked~label.sk-toggleable__label {background-color: #d4ebff;}#sk-container-id-6 input.sk-hidden--visually {border: 0;clip: rect(1px 1px 1px 1px);clip: rect(1px, 1px, 1px, 1px);height: 1px;margin: -1px;overflow: hidden;padding: 0;position: absolute;width: 1px;}#sk-container-id-6 div.sk-estimator {font-family: monospace;background-color: #f0f8ff;border: 1px dotted black;border-radius: 0.25em;box-sizing: border-box;margin-bottom: 0.5em;}#sk-container-id-6 div.sk-estimator:hover {background-color: #d4ebff;}#sk-container-id-6 div.sk-parallel-item::after {content: \"\";width: 100%;border-bottom: 1px solid gray;flex-grow: 1;}#sk-container-id-6 div.sk-label:hover label.sk-toggleable__label {background-color: #d4ebff;}#sk-container-id-6 div.sk-serial::before {content: \"\";position: absolute;border-left: 1px solid gray;box-sizing: border-box;top: 0;bottom: 0;left: 50%;z-index: 0;}#sk-container-id-6 div.sk-serial {display: flex;flex-direction: column;align-items: center;background-color: white;padding-right: 0.2em;padding-left: 0.2em;position: relative;}#sk-container-id-6 div.sk-item {position: relative;z-index: 1;}#sk-container-id-6 div.sk-parallel {display: flex;align-items: stretch;justify-content: center;background-color: white;position: relative;}#sk-container-id-6 div.sk-item::before, #sk-container-id-6 div.sk-parallel-item::before {content: \"\";position: absolute;border-left: 1px solid gray;box-sizing: border-box;top: 0;bottom: 0;left: 50%;z-index: -1;}#sk-container-id-6 div.sk-parallel-item {display: flex;flex-direction: column;z-index: 1;position: relative;background-color: white;}#sk-container-id-6 div.sk-parallel-item:first-child::after {align-self: flex-end;width: 50%;}#sk-container-id-6 div.sk-parallel-item:last-child::after {align-self: flex-start;width: 50%;}#sk-container-id-6 div.sk-parallel-item:only-child::after {width: 0;}#sk-container-id-6 div.sk-dashed-wrapped {border: 1px dashed gray;margin: 0 0.4em 0.5em 0.4em;box-sizing: border-box;padding-bottom: 0.4em;background-color: white;}#sk-container-id-6 div.sk-label label {font-family: monospace;font-weight: bold;display: inline-block;line-height: 1.2em;}#sk-container-id-6 div.sk-label-container {text-align: center;}#sk-container-id-6 div.sk-container {/* jupyter's `normalize.less` sets `[hidden] { display: none; }` but bootstrap.min.css set `[hidden] { display: none !important; }` so we also need the `!important` here to be able to override the default hidden behavior on the sphinx rendered scikit-learn.org. See: https://github.com/scikit-learn/scikit-learn/issues/21755 */display: inline-block !important;position: relative;}#sk-container-id-6 div.sk-text-repr-fallback {display: none;}</style><div id=\"sk-container-id-6\" class=\"sk-top-container\"><div class=\"sk-text-repr-fallback\"><pre>StackingCVRegressor(cv=12,\n",
       "                    meta_regressor=XGBRegressor(base_score=0.5,\n",
       "                                                booster=&#x27;gbtree&#x27;,\n",
       "                                                callbacks=None,\n",
       "                                                colsample_bylevel=1,\n",
       "                                                colsample_bynode=1,\n",
       "                                                colsample_bytree=1,\n",
       "                                                early_stopping_rounds=None,\n",
       "                                                enable_categorical=False,\n",
       "                                                eval_metric=None, gamma=0,\n",
       "                                                gpu_id=-1,\n",
       "                                                grow_policy=&#x27;depthwise&#x27;,\n",
       "                                                importance_type=None,\n",
       "                                                interaction_constraints=&#x27;&#x27;,\n",
       "                                                learning_rate=0.300000012,\n",
       "                                                max_bi...\n",
       "                                                n_estimators=100, n_jobs=0,\n",
       "                                                num_parallel_tree=1,\n",
       "                                                predictor=&#x27;auto&#x27;,\n",
       "                                                random_state=0, reg_alpha=0,\n",
       "                                                reg_lambda=1, ...),\n",
       "                    random_state=42,\n",
       "                    regressors=(LinearRegression(),\n",
       "                                RandomForestRegressor(max_depth=100,\n",
       "                                                      max_features=&#x27;sqrt&#x27;,\n",
       "                                                      min_samples_leaf=4,\n",
       "                                                      min_samples_split=10,\n",
       "                                                      n_estimators=800),\n",
       "                                SVR()),\n",
       "                    shuffle=False, store_train_meta_features=True,\n",
       "                    use_features_in_secondary=True)</pre><b>In a Jupyter environment, please rerun this cell to show the HTML representation or trust the notebook. <br />On GitHub, the HTML representation is unable to render, please try loading this page with nbviewer.org.</b></div><div class=\"sk-container\" hidden><div class=\"sk-item sk-dashed-wrapped\"><div class=\"sk-label-container\"><div class=\"sk-label sk-toggleable\"><input class=\"sk-toggleable__control sk-hidden--visually\" id=\"sk-estimator-id-6\" type=\"checkbox\" ><label for=\"sk-estimator-id-6\" class=\"sk-toggleable__label sk-toggleable__label-arrow\">StackingCVRegressor</label><div class=\"sk-toggleable__content\"><pre>StackingCVRegressor(cv=12,\n",
       "                    meta_regressor=XGBRegressor(base_score=0.5,\n",
       "                                                booster=&#x27;gbtree&#x27;,\n",
       "                                                callbacks=None,\n",
       "                                                colsample_bylevel=1,\n",
       "                                                colsample_bynode=1,\n",
       "                                                colsample_bytree=1,\n",
       "                                                early_stopping_rounds=None,\n",
       "                                                enable_categorical=False,\n",
       "                                                eval_metric=None, gamma=0,\n",
       "                                                gpu_id=-1,\n",
       "                                                grow_policy=&#x27;depthwise&#x27;,\n",
       "                                                importance_type=None,\n",
       "                                                interaction_constraints=&#x27;&#x27;,\n",
       "                                                learning_rate=0.300000012,\n",
       "                                                max_bi...\n",
       "                                                n_estimators=100, n_jobs=0,\n",
       "                                                num_parallel_tree=1,\n",
       "                                                predictor=&#x27;auto&#x27;,\n",
       "                                                random_state=0, reg_alpha=0,\n",
       "                                                reg_lambda=1, ...),\n",
       "                    random_state=42,\n",
       "                    regressors=(LinearRegression(),\n",
       "                                RandomForestRegressor(max_depth=100,\n",
       "                                                      max_features=&#x27;sqrt&#x27;,\n",
       "                                                      min_samples_leaf=4,\n",
       "                                                      min_samples_split=10,\n",
       "                                                      n_estimators=800),\n",
       "                                SVR()),\n",
       "                    shuffle=False, store_train_meta_features=True,\n",
       "                    use_features_in_secondary=True)</pre></div></div></div><div class=\"sk-parallel\"><div class=\"sk-parallel-item\"><div class=\"sk-item\"><div class=\"sk-label-container\"><div class=\"sk-label sk-toggleable\"><input class=\"sk-toggleable__control sk-hidden--visually\" id=\"sk-estimator-id-7\" type=\"checkbox\" ><label for=\"sk-estimator-id-7\" class=\"sk-toggleable__label sk-toggleable__label-arrow\">meta_regressor: XGBRegressor</label><div class=\"sk-toggleable__content\"><pre>XGBRegressor(base_score=0.5, booster=&#x27;gbtree&#x27;, callbacks=None,\n",
       "             colsample_bylevel=1, colsample_bynode=1, colsample_bytree=1,\n",
       "             early_stopping_rounds=None, enable_categorical=False,\n",
       "             eval_metric=None, gamma=0, gpu_id=-1, grow_policy=&#x27;depthwise&#x27;,\n",
       "             importance_type=None, interaction_constraints=&#x27;&#x27;,\n",
       "             learning_rate=0.300000012, max_bin=256, max_cat_to_onehot=4,\n",
       "             max_delta_step=0, max_depth=6, max_leaves=0, min_child_weight=1,\n",
       "             missing=nan, monotone_constraints=&#x27;()&#x27;, n_estimators=100, n_jobs=0,\n",
       "             num_parallel_tree=1, predictor=&#x27;auto&#x27;, random_state=0, reg_alpha=0,\n",
       "             reg_lambda=1, ...)</pre></div></div></div><div class=\"sk-serial\"><div class=\"sk-item\"><div class=\"sk-estimator sk-toggleable\"><input class=\"sk-toggleable__control sk-hidden--visually\" id=\"sk-estimator-id-8\" type=\"checkbox\" ><label for=\"sk-estimator-id-8\" class=\"sk-toggleable__label sk-toggleable__label-arrow\">XGBRegressor</label><div class=\"sk-toggleable__content\"><pre>XGBRegressor(base_score=0.5, booster=&#x27;gbtree&#x27;, callbacks=None,\n",
       "             colsample_bylevel=1, colsample_bynode=1, colsample_bytree=1,\n",
       "             early_stopping_rounds=None, enable_categorical=False,\n",
       "             eval_metric=None, gamma=0, gpu_id=-1, grow_policy=&#x27;depthwise&#x27;,\n",
       "             importance_type=None, interaction_constraints=&#x27;&#x27;,\n",
       "             learning_rate=0.300000012, max_bin=256, max_cat_to_onehot=4,\n",
       "             max_delta_step=0, max_depth=6, max_leaves=0, min_child_weight=1,\n",
       "             missing=nan, monotone_constraints=&#x27;()&#x27;, n_estimators=100, n_jobs=0,\n",
       "             num_parallel_tree=1, predictor=&#x27;auto&#x27;, random_state=0, reg_alpha=0,\n",
       "             reg_lambda=1, ...)</pre></div></div></div></div></div></div></div></div></div></div>"
      ],
      "text/plain": [
       "StackingCVRegressor(cv=12,\n",
       "                    meta_regressor=XGBRegressor(base_score=0.5,\n",
       "                                                booster='gbtree',\n",
       "                                                callbacks=None,\n",
       "                                                colsample_bylevel=1,\n",
       "                                                colsample_bynode=1,\n",
       "                                                colsample_bytree=1,\n",
       "                                                early_stopping_rounds=None,\n",
       "                                                enable_categorical=False,\n",
       "                                                eval_metric=None, gamma=0,\n",
       "                                                gpu_id=-1,\n",
       "                                                grow_policy='depthwise',\n",
       "                                                importance_type=None,\n",
       "                                                interaction_constraints='',\n",
       "                                                learning_rate=0.300000012,\n",
       "                                                max_bi...\n",
       "                                                n_estimators=100, n_jobs=0,\n",
       "                                                num_parallel_tree=1,\n",
       "                                                predictor='auto',\n",
       "                                                random_state=0, reg_alpha=0,\n",
       "                                                reg_lambda=1, ...),\n",
       "                    random_state=42,\n",
       "                    regressors=(LinearRegression(),\n",
       "                                RandomForestRegressor(max_depth=100,\n",
       "                                                      max_features='sqrt',\n",
       "                                                      min_samples_leaf=4,\n",
       "                                                      min_samples_split=10,\n",
       "                                                      n_estimators=800),\n",
       "                                SVR()),\n",
       "                    shuffle=False, store_train_meta_features=True,\n",
       "                    use_features_in_secondary=True)"
      ]
     },
     "execution_count": 78,
     "metadata": {},
     "output_type": "execute_result"
    }
   ],
   "source": [
    "stack = StackingCVRegressor(regressors=(LR, random_forest_model, svm_regr),\n",
    "                            meta_regressor=xgb, cv=12,\n",
    "                            use_features_in_secondary=True,\n",
    "                            store_train_meta_features=True,\n",
    "                            shuffle=False,\n",
    "                            random_state=42)\n",
    "stack.fit(X_train, y_train)"
   ]
  },
  {
   "cell_type": "code",
   "execution_count": 79,
   "id": "e5c4ed1f-e585-47ad-ab43-45300440570e",
   "metadata": {},
   "outputs": [],
   "source": [
    "y_train_predict=stack.predict(X_train)\n",
    "y_test_predict=stack.predict(X_test)"
   ]
  },
  {
   "cell_type": "code",
   "execution_count": 80,
   "id": "ccad1f0a-fd79-46b8-9ae9-64d54848d5b6",
   "metadata": {},
   "outputs": [
    {
     "name": "stdout",
     "output_type": "stream",
     "text": [
      "-------Test Data--------\n",
      "MAE: 0.378812180717224\n",
      "MSE: 0.20748462622425407\n",
      "RMSE: 0.45550480373345575\n",
      "\n",
      "-------Train Data--------\n",
      "MAE: 0.25717238147712623\n",
      "MSE: 0.14079770488629254\n",
      "RMSE: 0.37523020252412054\n"
     ]
    }
   ],
   "source": [
    "print(\"-------Test Data--------\")\n",
    "print('MAE:', metrics.mean_absolute_error(y_test, y_test_predict))\n",
    "print('MSE:', metrics.mean_squared_error(y_test, y_test_predict))\n",
    "print('RMSE:', np.sqrt(metrics.mean_squared_error(y_test, y_test_predict)))\n",
    "\n",
    "print(\"\\n-------Train Data--------\")\n",
    "print('MAE:', metrics.mean_absolute_error(y_train,y_train_predict))\n",
    "print('MSE:', metrics.mean_squared_error(y_train, y_train_predict))\n",
    "print('RMSE:', np.sqrt(metrics.mean_squared_error(y_train, y_train_predict)))"
   ]
  },
  {
   "cell_type": "code",
   "execution_count": 81,
   "id": "b69a8777-344f-4c59-9189-2a67051c48cf",
   "metadata": {},
   "outputs": [
    {
     "name": "stdout",
     "output_type": "stream",
     "text": [
      "-----------Training Accuracy------------\n",
      "85.7\n",
      "-----------Testing Accuracy------------\n",
      "75.7\n"
     ]
    }
   ],
   "source": [
    "print(\"-----------Training Accuracy------------\")\n",
    "print(round(stack.score(X_train,y_train),3)*100)\n",
    "print(\"-----------Testing Accuracy------------\")\n",
    "print(round(stack.score(X_test,y_test),3)*100)"
   ]
  },
  {
   "cell_type": "code",
   "execution_count": 104,
   "id": "f732d634-c6f8-4e86-8cd9-c9abbe9acbcf",
   "metadata": {},
   "outputs": [
    {
     "data": {
      "text/plain": [
       "array([4.226189], dtype=float32)"
      ]
     },
     "execution_count": 104,
     "metadata": {},
     "output_type": "execute_result"
    }
   ],
   "source": [
    "predicted = stack.predict([[3,3,3,3]])\n",
    "predicted"
   ]
  },
  {
   "cell_type": "markdown",
   "id": "f8c9f2cd-96f1-4aa6-87d6-eccacc8931a9",
   "metadata": {},
   "source": [
    "### ❏ Hybrid Model 2"
   ]
  },
  {
   "cell_type": "markdown",
   "id": "884591aa-d267-41e3-b6b4-21f3b26c72e2",
   "metadata": {},
   "source": [
    "The stacked model with meta learner = Linear Regression and the weak learners = Linear Regression, Random Forest and SVM "
   ]
  },
  {
   "cell_type": "code",
   "execution_count": 83,
   "id": "c276ef96-d114-4af9-8f4e-da23780d52e5",
   "metadata": {},
   "outputs": [
    {
     "data": {
      "text/html": [
       "<style>#sk-container-id-7 {color: black;background-color: white;}#sk-container-id-7 pre{padding: 0;}#sk-container-id-7 div.sk-toggleable {background-color: white;}#sk-container-id-7 label.sk-toggleable__label {cursor: pointer;display: block;width: 100%;margin-bottom: 0;padding: 0.3em;box-sizing: border-box;text-align: center;}#sk-container-id-7 label.sk-toggleable__label-arrow:before {content: \"▸\";float: left;margin-right: 0.25em;color: #696969;}#sk-container-id-7 label.sk-toggleable__label-arrow:hover:before {color: black;}#sk-container-id-7 div.sk-estimator:hover label.sk-toggleable__label-arrow:before {color: black;}#sk-container-id-7 div.sk-toggleable__content {max-height: 0;max-width: 0;overflow: hidden;text-align: left;background-color: #f0f8ff;}#sk-container-id-7 div.sk-toggleable__content pre {margin: 0.2em;color: black;border-radius: 0.25em;background-color: #f0f8ff;}#sk-container-id-7 input.sk-toggleable__control:checked~div.sk-toggleable__content {max-height: 200px;max-width: 100%;overflow: auto;}#sk-container-id-7 input.sk-toggleable__control:checked~label.sk-toggleable__label-arrow:before {content: \"▾\";}#sk-container-id-7 div.sk-estimator input.sk-toggleable__control:checked~label.sk-toggleable__label {background-color: #d4ebff;}#sk-container-id-7 div.sk-label input.sk-toggleable__control:checked~label.sk-toggleable__label {background-color: #d4ebff;}#sk-container-id-7 input.sk-hidden--visually {border: 0;clip: rect(1px 1px 1px 1px);clip: rect(1px, 1px, 1px, 1px);height: 1px;margin: -1px;overflow: hidden;padding: 0;position: absolute;width: 1px;}#sk-container-id-7 div.sk-estimator {font-family: monospace;background-color: #f0f8ff;border: 1px dotted black;border-radius: 0.25em;box-sizing: border-box;margin-bottom: 0.5em;}#sk-container-id-7 div.sk-estimator:hover {background-color: #d4ebff;}#sk-container-id-7 div.sk-parallel-item::after {content: \"\";width: 100%;border-bottom: 1px solid gray;flex-grow: 1;}#sk-container-id-7 div.sk-label:hover label.sk-toggleable__label {background-color: #d4ebff;}#sk-container-id-7 div.sk-serial::before {content: \"\";position: absolute;border-left: 1px solid gray;box-sizing: border-box;top: 0;bottom: 0;left: 50%;z-index: 0;}#sk-container-id-7 div.sk-serial {display: flex;flex-direction: column;align-items: center;background-color: white;padding-right: 0.2em;padding-left: 0.2em;position: relative;}#sk-container-id-7 div.sk-item {position: relative;z-index: 1;}#sk-container-id-7 div.sk-parallel {display: flex;align-items: stretch;justify-content: center;background-color: white;position: relative;}#sk-container-id-7 div.sk-item::before, #sk-container-id-7 div.sk-parallel-item::before {content: \"\";position: absolute;border-left: 1px solid gray;box-sizing: border-box;top: 0;bottom: 0;left: 50%;z-index: -1;}#sk-container-id-7 div.sk-parallel-item {display: flex;flex-direction: column;z-index: 1;position: relative;background-color: white;}#sk-container-id-7 div.sk-parallel-item:first-child::after {align-self: flex-end;width: 50%;}#sk-container-id-7 div.sk-parallel-item:last-child::after {align-self: flex-start;width: 50%;}#sk-container-id-7 div.sk-parallel-item:only-child::after {width: 0;}#sk-container-id-7 div.sk-dashed-wrapped {border: 1px dashed gray;margin: 0 0.4em 0.5em 0.4em;box-sizing: border-box;padding-bottom: 0.4em;background-color: white;}#sk-container-id-7 div.sk-label label {font-family: monospace;font-weight: bold;display: inline-block;line-height: 1.2em;}#sk-container-id-7 div.sk-label-container {text-align: center;}#sk-container-id-7 div.sk-container {/* jupyter's `normalize.less` sets `[hidden] { display: none; }` but bootstrap.min.css set `[hidden] { display: none !important; }` so we also need the `!important` here to be able to override the default hidden behavior on the sphinx rendered scikit-learn.org. See: https://github.com/scikit-learn/scikit-learn/issues/21755 */display: inline-block !important;position: relative;}#sk-container-id-7 div.sk-text-repr-fallback {display: none;}</style><div id=\"sk-container-id-7\" class=\"sk-top-container\"><div class=\"sk-text-repr-fallback\"><pre>StackingCVRegressor(cv=12, meta_regressor=LinearRegression(), random_state=42,\n",
       "                    regressors=(LinearRegression(),\n",
       "                                RandomForestRegressor(max_depth=100,\n",
       "                                                      max_features=&#x27;sqrt&#x27;,\n",
       "                                                      min_samples_leaf=4,\n",
       "                                                      min_samples_split=10,\n",
       "                                                      n_estimators=800),\n",
       "                                SVR()),\n",
       "                    shuffle=False, store_train_meta_features=True,\n",
       "                    use_features_in_secondary=True)</pre><b>In a Jupyter environment, please rerun this cell to show the HTML representation or trust the notebook. <br />On GitHub, the HTML representation is unable to render, please try loading this page with nbviewer.org.</b></div><div class=\"sk-container\" hidden><div class=\"sk-item sk-dashed-wrapped\"><div class=\"sk-label-container\"><div class=\"sk-label sk-toggleable\"><input class=\"sk-toggleable__control sk-hidden--visually\" id=\"sk-estimator-id-9\" type=\"checkbox\" ><label for=\"sk-estimator-id-9\" class=\"sk-toggleable__label sk-toggleable__label-arrow\">StackingCVRegressor</label><div class=\"sk-toggleable__content\"><pre>StackingCVRegressor(cv=12, meta_regressor=LinearRegression(), random_state=42,\n",
       "                    regressors=(LinearRegression(),\n",
       "                                RandomForestRegressor(max_depth=100,\n",
       "                                                      max_features=&#x27;sqrt&#x27;,\n",
       "                                                      min_samples_leaf=4,\n",
       "                                                      min_samples_split=10,\n",
       "                                                      n_estimators=800),\n",
       "                                SVR()),\n",
       "                    shuffle=False, store_train_meta_features=True,\n",
       "                    use_features_in_secondary=True)</pre></div></div></div><div class=\"sk-parallel\"><div class=\"sk-parallel-item\"><div class=\"sk-item\"><div class=\"sk-label-container\"><div class=\"sk-label sk-toggleable\"><input class=\"sk-toggleable__control sk-hidden--visually\" id=\"sk-estimator-id-10\" type=\"checkbox\" ><label for=\"sk-estimator-id-10\" class=\"sk-toggleable__label sk-toggleable__label-arrow\">meta_regressor: LinearRegression</label><div class=\"sk-toggleable__content\"><pre>LinearRegression()</pre></div></div></div><div class=\"sk-serial\"><div class=\"sk-item\"><div class=\"sk-estimator sk-toggleable\"><input class=\"sk-toggleable__control sk-hidden--visually\" id=\"sk-estimator-id-11\" type=\"checkbox\" ><label for=\"sk-estimator-id-11\" class=\"sk-toggleable__label sk-toggleable__label-arrow\">LinearRegression</label><div class=\"sk-toggleable__content\"><pre>LinearRegression()</pre></div></div></div></div></div></div></div></div></div></div>"
      ],
      "text/plain": [
       "StackingCVRegressor(cv=12, meta_regressor=LinearRegression(), random_state=42,\n",
       "                    regressors=(LinearRegression(),\n",
       "                                RandomForestRegressor(max_depth=100,\n",
       "                                                      max_features='sqrt',\n",
       "                                                      min_samples_leaf=4,\n",
       "                                                      min_samples_split=10,\n",
       "                                                      n_estimators=800),\n",
       "                                SVR()),\n",
       "                    shuffle=False, store_train_meta_features=True,\n",
       "                    use_features_in_secondary=True)"
      ]
     },
     "execution_count": 83,
     "metadata": {},
     "output_type": "execute_result"
    }
   ],
   "source": [
    "stack2 = StackingCVRegressor(regressors=(LR, random_forest_model,svm_regr),\n",
    "                            meta_regressor=LR, cv=12,\n",
    "                            use_features_in_secondary=True,\n",
    "                            store_train_meta_features=True,\n",
    "                            shuffle=False,\n",
    "                            random_state=42)\n",
    "\n",
    "stack2.fit(X_train, y_train)"
   ]
  },
  {
   "cell_type": "code",
   "execution_count": 84,
   "id": "c2827f0c-6e59-4e42-8ca3-20e29005d118",
   "metadata": {},
   "outputs": [
    {
     "name": "stdout",
     "output_type": "stream",
     "text": [
      "-------Test Data--------\n",
      "MAE: 0.378812180717224\n",
      "MSE: 0.20748462622425407\n",
      "RMSE: 0.45550480373345575\n",
      "\n",
      "-------Train Data--------\n",
      "MAE: 0.25717238147712623\n",
      "MSE: 0.14079770488629254\n",
      "RMSE: 0.37523020252412054\n"
     ]
    }
   ],
   "source": [
    "print(\"-------Test Data--------\")\n",
    "print('MAE:', metrics.mean_absolute_error(y_test, y_test_predict))\n",
    "print('MSE:', metrics.mean_squared_error(y_test, y_test_predict))\n",
    "print('RMSE:', np.sqrt(metrics.mean_squared_error(y_test, y_test_predict)))\n",
    "\n",
    "print(\"\\n-------Train Data--------\")\n",
    "print('MAE:', metrics.mean_absolute_error(y_train,y_train_predict))\n",
    "print('MSE:', metrics.mean_squared_error(y_train, y_train_predict))\n",
    "print('RMSE:', np.sqrt(metrics.mean_squared_error(y_train, y_train_predict)))"
   ]
  },
  {
   "cell_type": "code",
   "execution_count": 85,
   "id": "93467858-da77-415e-a77e-8d4b133255a8",
   "metadata": {},
   "outputs": [
    {
     "name": "stdout",
     "output_type": "stream",
     "text": [
      "-----------Training Accuracy------------\n",
      "77.3\n",
      "-----------Testing Accuracy------------\n",
      "82.0\n"
     ]
    }
   ],
   "source": [
    "print(\"-----------Training Accuracy------------\")\n",
    "print(round(stack2.score(X_train,y_train),3)*100)\n",
    "print(\"-----------Testing Accuracy------------\")\n",
    "print(round(stack2.score(X_test,y_test),3)*100)"
   ]
  },
  {
   "cell_type": "code",
   "execution_count": 86,
   "id": "bed2656e-1ae5-4173-ab9f-2aa3f041cbad",
   "metadata": {},
   "outputs": [],
   "source": [
    "from sklearn.metrics import r2_score"
   ]
  },
  {
   "cell_type": "code",
   "execution_count": 87,
   "id": "e2ab07f2-81a7-4db3-b7d9-c2a84e88dbc8",
   "metadata": {},
   "outputs": [],
   "source": [
    "score = r2_score(y_test, y_test_predict)"
   ]
  },
  {
   "cell_type": "code",
   "execution_count": 88,
   "id": "5a8c03e5-d86e-497f-9653-dbf0fd8c2c4c",
   "metadata": {},
   "outputs": [
    {
     "data": {
      "text/plain": [
       "0.7570612360449543"
      ]
     },
     "execution_count": 88,
     "metadata": {},
     "output_type": "execute_result"
    }
   ],
   "source": [
    "score"
   ]
  },
  {
   "cell_type": "markdown",
   "id": "c2866ad6-9bd7-46dc-b500-0173746edad3",
   "metadata": {},
   "source": [
    "The stacked model with meta learner = Logistic Regression and the weak learners = Linear Regression, Random Forest and SVM "
   ]
  },
  {
   "cell_type": "markdown",
   "id": "678c50e8-8fd6-4b1c-b056-6ff7000890b5",
   "metadata": {},
   "source": [
    "### ❏ Hybrid Model 3"
   ]
  },
  {
   "cell_type": "markdown",
   "id": "801ab582-9089-4c6d-bd93-3a28f4954b61",
   "metadata": {},
   "source": [
    "The stacked model with meta learner = LinearRegression and the weak learners = Linear Regression, Random Forest and SVM"
   ]
  },
  {
   "cell_type": "code",
   "execution_count": 89,
   "id": "f79d8cd6-7d29-4203-9584-bbea4e4c3930",
   "metadata": {},
   "outputs": [
    {
     "data": {
      "text/html": [
       "<style>#sk-container-id-8 {color: black;background-color: white;}#sk-container-id-8 pre{padding: 0;}#sk-container-id-8 div.sk-toggleable {background-color: white;}#sk-container-id-8 label.sk-toggleable__label {cursor: pointer;display: block;width: 100%;margin-bottom: 0;padding: 0.3em;box-sizing: border-box;text-align: center;}#sk-container-id-8 label.sk-toggleable__label-arrow:before {content: \"▸\";float: left;margin-right: 0.25em;color: #696969;}#sk-container-id-8 label.sk-toggleable__label-arrow:hover:before {color: black;}#sk-container-id-8 div.sk-estimator:hover label.sk-toggleable__label-arrow:before {color: black;}#sk-container-id-8 div.sk-toggleable__content {max-height: 0;max-width: 0;overflow: hidden;text-align: left;background-color: #f0f8ff;}#sk-container-id-8 div.sk-toggleable__content pre {margin: 0.2em;color: black;border-radius: 0.25em;background-color: #f0f8ff;}#sk-container-id-8 input.sk-toggleable__control:checked~div.sk-toggleable__content {max-height: 200px;max-width: 100%;overflow: auto;}#sk-container-id-8 input.sk-toggleable__control:checked~label.sk-toggleable__label-arrow:before {content: \"▾\";}#sk-container-id-8 div.sk-estimator input.sk-toggleable__control:checked~label.sk-toggleable__label {background-color: #d4ebff;}#sk-container-id-8 div.sk-label input.sk-toggleable__control:checked~label.sk-toggleable__label {background-color: #d4ebff;}#sk-container-id-8 input.sk-hidden--visually {border: 0;clip: rect(1px 1px 1px 1px);clip: rect(1px, 1px, 1px, 1px);height: 1px;margin: -1px;overflow: hidden;padding: 0;position: absolute;width: 1px;}#sk-container-id-8 div.sk-estimator {font-family: monospace;background-color: #f0f8ff;border: 1px dotted black;border-radius: 0.25em;box-sizing: border-box;margin-bottom: 0.5em;}#sk-container-id-8 div.sk-estimator:hover {background-color: #d4ebff;}#sk-container-id-8 div.sk-parallel-item::after {content: \"\";width: 100%;border-bottom: 1px solid gray;flex-grow: 1;}#sk-container-id-8 div.sk-label:hover label.sk-toggleable__label {background-color: #d4ebff;}#sk-container-id-8 div.sk-serial::before {content: \"\";position: absolute;border-left: 1px solid gray;box-sizing: border-box;top: 0;bottom: 0;left: 50%;z-index: 0;}#sk-container-id-8 div.sk-serial {display: flex;flex-direction: column;align-items: center;background-color: white;padding-right: 0.2em;padding-left: 0.2em;position: relative;}#sk-container-id-8 div.sk-item {position: relative;z-index: 1;}#sk-container-id-8 div.sk-parallel {display: flex;align-items: stretch;justify-content: center;background-color: white;position: relative;}#sk-container-id-8 div.sk-item::before, #sk-container-id-8 div.sk-parallel-item::before {content: \"\";position: absolute;border-left: 1px solid gray;box-sizing: border-box;top: 0;bottom: 0;left: 50%;z-index: -1;}#sk-container-id-8 div.sk-parallel-item {display: flex;flex-direction: column;z-index: 1;position: relative;background-color: white;}#sk-container-id-8 div.sk-parallel-item:first-child::after {align-self: flex-end;width: 50%;}#sk-container-id-8 div.sk-parallel-item:last-child::after {align-self: flex-start;width: 50%;}#sk-container-id-8 div.sk-parallel-item:only-child::after {width: 0;}#sk-container-id-8 div.sk-dashed-wrapped {border: 1px dashed gray;margin: 0 0.4em 0.5em 0.4em;box-sizing: border-box;padding-bottom: 0.4em;background-color: white;}#sk-container-id-8 div.sk-label label {font-family: monospace;font-weight: bold;display: inline-block;line-height: 1.2em;}#sk-container-id-8 div.sk-label-container {text-align: center;}#sk-container-id-8 div.sk-container {/* jupyter's `normalize.less` sets `[hidden] { display: none; }` but bootstrap.min.css set `[hidden] { display: none !important; }` so we also need the `!important` here to be able to override the default hidden behavior on the sphinx rendered scikit-learn.org. See: https://github.com/scikit-learn/scikit-learn/issues/21755 */display: inline-block !important;position: relative;}#sk-container-id-8 div.sk-text-repr-fallback {display: none;}</style><div id=\"sk-container-id-8\" class=\"sk-top-container\"><div class=\"sk-text-repr-fallback\"><pre>StackingCVRegressor(cv=12, meta_regressor=LinearRegression(), random_state=42,\n",
       "                    regressors=(LinearRegression(),\n",
       "                                RandomForestRegressor(max_depth=100,\n",
       "                                                      max_features=&#x27;sqrt&#x27;,\n",
       "                                                      min_samples_leaf=4,\n",
       "                                                      min_samples_split=10,\n",
       "                                                      n_estimators=800),\n",
       "                                GradientBoostingRegressor(random_state=0)),\n",
       "                    shuffle=False, store_train_meta_features=True,\n",
       "                    use_features_in_secondary=True)</pre><b>In a Jupyter environment, please rerun this cell to show the HTML representation or trust the notebook. <br />On GitHub, the HTML representation is unable to render, please try loading this page with nbviewer.org.</b></div><div class=\"sk-container\" hidden><div class=\"sk-item sk-dashed-wrapped\"><div class=\"sk-label-container\"><div class=\"sk-label sk-toggleable\"><input class=\"sk-toggleable__control sk-hidden--visually\" id=\"sk-estimator-id-12\" type=\"checkbox\" ><label for=\"sk-estimator-id-12\" class=\"sk-toggleable__label sk-toggleable__label-arrow\">StackingCVRegressor</label><div class=\"sk-toggleable__content\"><pre>StackingCVRegressor(cv=12, meta_regressor=LinearRegression(), random_state=42,\n",
       "                    regressors=(LinearRegression(),\n",
       "                                RandomForestRegressor(max_depth=100,\n",
       "                                                      max_features=&#x27;sqrt&#x27;,\n",
       "                                                      min_samples_leaf=4,\n",
       "                                                      min_samples_split=10,\n",
       "                                                      n_estimators=800),\n",
       "                                GradientBoostingRegressor(random_state=0)),\n",
       "                    shuffle=False, store_train_meta_features=True,\n",
       "                    use_features_in_secondary=True)</pre></div></div></div><div class=\"sk-parallel\"><div class=\"sk-parallel-item\"><div class=\"sk-item\"><div class=\"sk-label-container\"><div class=\"sk-label sk-toggleable\"><input class=\"sk-toggleable__control sk-hidden--visually\" id=\"sk-estimator-id-13\" type=\"checkbox\" ><label for=\"sk-estimator-id-13\" class=\"sk-toggleable__label sk-toggleable__label-arrow\">meta_regressor: LinearRegression</label><div class=\"sk-toggleable__content\"><pre>LinearRegression()</pre></div></div></div><div class=\"sk-serial\"><div class=\"sk-item\"><div class=\"sk-estimator sk-toggleable\"><input class=\"sk-toggleable__control sk-hidden--visually\" id=\"sk-estimator-id-14\" type=\"checkbox\" ><label for=\"sk-estimator-id-14\" class=\"sk-toggleable__label sk-toggleable__label-arrow\">LinearRegression</label><div class=\"sk-toggleable__content\"><pre>LinearRegression()</pre></div></div></div></div></div></div></div></div></div></div>"
      ],
      "text/plain": [
       "StackingCVRegressor(cv=12, meta_regressor=LinearRegression(), random_state=42,\n",
       "                    regressors=(LinearRegression(),\n",
       "                                RandomForestRegressor(max_depth=100,\n",
       "                                                      max_features='sqrt',\n",
       "                                                      min_samples_leaf=4,\n",
       "                                                      min_samples_split=10,\n",
       "                                                      n_estimators=800),\n",
       "                                GradientBoostingRegressor(random_state=0)),\n",
       "                    shuffle=False, store_train_meta_features=True,\n",
       "                    use_features_in_secondary=True)"
      ]
     },
     "execution_count": 89,
     "metadata": {},
     "output_type": "execute_result"
    }
   ],
   "source": [
    "stack4 = StackingCVRegressor(regressors=(LR, random_forest_model,gbr),\n",
    "                            meta_regressor=LR, cv=12,\n",
    "                            use_features_in_secondary=True,\n",
    "                            store_train_meta_features=True,\n",
    "                            shuffle=False,\n",
    "                            random_state=42)\n",
    "\n",
    "stack4.fit(X_train, y_train)"
   ]
  },
  {
   "cell_type": "code",
   "execution_count": 90,
   "id": "82414daa-493f-4ad5-a349-63783edfb1e2",
   "metadata": {},
   "outputs": [],
   "source": [
    "y_train_predict=stack4.predict(X_train)\n",
    "y_test_predict=stack4.predict(X_test)"
   ]
  },
  {
   "cell_type": "code",
   "execution_count": 91,
   "id": "ab232c2c-9117-4d11-8d32-4d054dfeadb1",
   "metadata": {},
   "outputs": [
    {
     "name": "stdout",
     "output_type": "stream",
     "text": [
      "-------Test Data--------\n",
      "MAE: 0.317385222146698\n",
      "MSE: 0.1547029902153155\n",
      "RMSE: 0.39332301002524056\n",
      "\n",
      "-------Train Data--------\n",
      "MAE: 0.35026166849523727\n",
      "MSE: 0.22782894321630087\n",
      "RMSE: 0.4773143023378839\n"
     ]
    }
   ],
   "source": [
    "print(\"-------Test Data--------\")\n",
    "print('MAE:', metrics.mean_absolute_error(y_test, y_test_predict))\n",
    "print('MSE:', metrics.mean_squared_error(y_test, y_test_predict))\n",
    "print('RMSE:', np.sqrt(metrics.mean_squared_error(y_test, y_test_predict)))\n",
    "\n",
    "print(\"\\n-------Train Data--------\")\n",
    "print('MAE:', metrics.mean_absolute_error(y_train,y_train_predict))\n",
    "print('MSE:', metrics.mean_squared_error(y_train, y_train_predict))\n",
    "print('RMSE:', np.sqrt(metrics.mean_squared_error(y_train, y_train_predict)))"
   ]
  },
  {
   "cell_type": "code",
   "execution_count": 92,
   "id": "8f6c395b-1345-4e99-8da8-729c84065ca0",
   "metadata": {},
   "outputs": [
    {
     "name": "stdout",
     "output_type": "stream",
     "text": [
      "-----------Training Accuracy------------\n",
      "76.8\n",
      "-----------Testing Accuracy------------\n",
      "81.89999999999999\n"
     ]
    }
   ],
   "source": [
    "print(\"-----------Training Accuracy------------\")\n",
    "print(round(stack4.score(X_train,y_train),3)*100)\n",
    "print(\"-----------Testing Accuracy------------\")\n",
    "print(round(stack4.score(X_test,y_test),3)*100)"
   ]
  },
  {
   "cell_type": "code",
   "execution_count": 105,
   "id": "3f95e55e-febc-4a35-96e0-bfefd772cbb5",
   "metadata": {},
   "outputs": [
    {
     "data": {
      "text/plain": [
       "array([4.20674425])"
      ]
     },
     "execution_count": 105,
     "metadata": {},
     "output_type": "execute_result"
    }
   ],
   "source": [
    "predicted = stack4.predict([[3,3,3,3]])\n",
    "predicted"
   ]
  }
 ],
 "metadata": {
  "kernelspec": {
   "display_name": "Python 3 (ipykernel)",
   "language": "python",
   "name": "python3"
  },
  "language_info": {
   "codemirror_mode": {
    "name": "ipython",
    "version": 3
   },
   "file_extension": ".py",
   "mimetype": "text/x-python",
   "name": "python",
   "nbconvert_exporter": "python",
   "pygments_lexer": "ipython3",
   "version": "3.8.13"
  },
  "vscode": {
   "interpreter": {
    "hash": "aee8b7b246df8f9039afb4144a1f6fd8d2ca17a180786b69acc140d282b71a49"
   }
  }
 },
 "nbformat": 4,
 "nbformat_minor": 5
}
